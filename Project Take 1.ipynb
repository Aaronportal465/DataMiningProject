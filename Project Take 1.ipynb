{
 "cells": [
  {
   "cell_type": "code",
   "execution_count": 39,
   "metadata": {},
   "outputs": [],
   "source": [
    "import pandas as pd\n",
    "import numpy as np\n",
    "import matplotlib as mpl\n",
    "import matplotlib.pyplot as plt\n",
    "import csv\n",
    "import seaborn as sns\n",
    "from sklearn import preprocessing\n",
    "\n",
    "from sklearn.metrics import confusion_matrix\n",
    "from sklearn.preprocessing import scale\n",
    "from sklearn.decomposition import PCA\n",
    "from sklearn.naive_bayes import GaussianNB\n",
    "from sklearn.metrics import accuracy_score"
   ]
  },
  {
   "cell_type": "code",
   "execution_count": 40,
   "metadata": {},
   "outputs": [
    {
     "data": {
      "text/html": [
       "<div>\n",
       "<style scoped>\n",
       "    .dataframe tbody tr th:only-of-type {\n",
       "        vertical-align: middle;\n",
       "    }\n",
       "\n",
       "    .dataframe tbody tr th {\n",
       "        vertical-align: top;\n",
       "    }\n",
       "\n",
       "    .dataframe thead th {\n",
       "        text-align: right;\n",
       "    }\n",
       "</style>\n",
       "<table border=\"1\" class=\"dataframe\">\n",
       "  <thead>\n",
       "    <tr style=\"text-align: right;\">\n",
       "      <th></th>\n",
       "      <th>39</th>\n",
       "      <th>State-gov</th>\n",
       "      <th>77516</th>\n",
       "      <th>Bachelors</th>\n",
       "      <th>13</th>\n",
       "      <th>Never-married</th>\n",
       "      <th>Adm-clerical</th>\n",
       "      <th>Not-in-family</th>\n",
       "      <th>White</th>\n",
       "      <th>Male</th>\n",
       "      <th>2174</th>\n",
       "      <th>0</th>\n",
       "      <th>40</th>\n",
       "      <th>United-States</th>\n",
       "      <th>&lt;=50K</th>\n",
       "    </tr>\n",
       "  </thead>\n",
       "  <tbody>\n",
       "    <tr>\n",
       "      <td>0</td>\n",
       "      <td>50</td>\n",
       "      <td>Self-emp-not-inc</td>\n",
       "      <td>83311</td>\n",
       "      <td>Bachelors</td>\n",
       "      <td>13</td>\n",
       "      <td>Married-civ-spouse</td>\n",
       "      <td>Exec-managerial</td>\n",
       "      <td>Husband</td>\n",
       "      <td>White</td>\n",
       "      <td>Male</td>\n",
       "      <td>0</td>\n",
       "      <td>0</td>\n",
       "      <td>13</td>\n",
       "      <td>United-States</td>\n",
       "      <td>&lt;=50K</td>\n",
       "    </tr>\n",
       "    <tr>\n",
       "      <td>1</td>\n",
       "      <td>38</td>\n",
       "      <td>Private</td>\n",
       "      <td>215646</td>\n",
       "      <td>HS-grad</td>\n",
       "      <td>9</td>\n",
       "      <td>Divorced</td>\n",
       "      <td>Handlers-cleaners</td>\n",
       "      <td>Not-in-family</td>\n",
       "      <td>White</td>\n",
       "      <td>Male</td>\n",
       "      <td>0</td>\n",
       "      <td>0</td>\n",
       "      <td>40</td>\n",
       "      <td>United-States</td>\n",
       "      <td>&lt;=50K</td>\n",
       "    </tr>\n",
       "    <tr>\n",
       "      <td>2</td>\n",
       "      <td>53</td>\n",
       "      <td>Private</td>\n",
       "      <td>234721</td>\n",
       "      <td>11th</td>\n",
       "      <td>7</td>\n",
       "      <td>Married-civ-spouse</td>\n",
       "      <td>Handlers-cleaners</td>\n",
       "      <td>Husband</td>\n",
       "      <td>Black</td>\n",
       "      <td>Male</td>\n",
       "      <td>0</td>\n",
       "      <td>0</td>\n",
       "      <td>40</td>\n",
       "      <td>United-States</td>\n",
       "      <td>&lt;=50K</td>\n",
       "    </tr>\n",
       "    <tr>\n",
       "      <td>3</td>\n",
       "      <td>28</td>\n",
       "      <td>Private</td>\n",
       "      <td>338409</td>\n",
       "      <td>Bachelors</td>\n",
       "      <td>13</td>\n",
       "      <td>Married-civ-spouse</td>\n",
       "      <td>Prof-specialty</td>\n",
       "      <td>Wife</td>\n",
       "      <td>Black</td>\n",
       "      <td>Female</td>\n",
       "      <td>0</td>\n",
       "      <td>0</td>\n",
       "      <td>40</td>\n",
       "      <td>Cuba</td>\n",
       "      <td>&lt;=50K</td>\n",
       "    </tr>\n",
       "    <tr>\n",
       "      <td>4</td>\n",
       "      <td>37</td>\n",
       "      <td>Private</td>\n",
       "      <td>284582</td>\n",
       "      <td>Masters</td>\n",
       "      <td>14</td>\n",
       "      <td>Married-civ-spouse</td>\n",
       "      <td>Exec-managerial</td>\n",
       "      <td>Wife</td>\n",
       "      <td>White</td>\n",
       "      <td>Female</td>\n",
       "      <td>0</td>\n",
       "      <td>0</td>\n",
       "      <td>40</td>\n",
       "      <td>United-States</td>\n",
       "      <td>&lt;=50K</td>\n",
       "    </tr>\n",
       "  </tbody>\n",
       "</table>\n",
       "</div>"
      ],
      "text/plain": [
       "   39          State-gov   77516   Bachelors  13        Never-married  \\\n",
       "0  50   Self-emp-not-inc   83311   Bachelors  13   Married-civ-spouse   \n",
       "1  38            Private  215646     HS-grad   9             Divorced   \n",
       "2  53            Private  234721        11th   7   Married-civ-spouse   \n",
       "3  28            Private  338409   Bachelors  13   Married-civ-spouse   \n",
       "4  37            Private  284582     Masters  14   Married-civ-spouse   \n",
       "\n",
       "         Adm-clerical   Not-in-family   White     Male  2174  0  40  \\\n",
       "0     Exec-managerial         Husband   White     Male     0  0  13   \n",
       "1   Handlers-cleaners   Not-in-family   White     Male     0  0  40   \n",
       "2   Handlers-cleaners         Husband   Black     Male     0  0  40   \n",
       "3      Prof-specialty            Wife   Black   Female     0  0  40   \n",
       "4     Exec-managerial            Wife   White   Female     0  0  40   \n",
       "\n",
       "    United-States   <=50K  \n",
       "0   United-States   <=50K  \n",
       "1   United-States   <=50K  \n",
       "2   United-States   <=50K  \n",
       "3            Cuba   <=50K  \n",
       "4   United-States   <=50K  "
      ]
     },
     "execution_count": 40,
     "metadata": {},
     "output_type": "execute_result"
    }
   ],
   "source": [
    "#imports dataset\n",
    "data = pd.read_csv('adult.csv')\n",
    "data.head()"
   ]
  },
  {
   "cell_type": "code",
   "execution_count": 41,
   "metadata": {},
   "outputs": [
    {
     "data": {
      "text/html": [
       "<div>\n",
       "<style scoped>\n",
       "    .dataframe tbody tr th:only-of-type {\n",
       "        vertical-align: middle;\n",
       "    }\n",
       "\n",
       "    .dataframe tbody tr th {\n",
       "        vertical-align: top;\n",
       "    }\n",
       "\n",
       "    .dataframe thead th {\n",
       "        text-align: right;\n",
       "    }\n",
       "</style>\n",
       "<table border=\"1\" class=\"dataframe\">\n",
       "  <thead>\n",
       "    <tr style=\"text-align: right;\">\n",
       "      <th></th>\n",
       "      <th>Age</th>\n",
       "      <th>Workclass</th>\n",
       "      <th>Fnlwgt</th>\n",
       "      <th>Education</th>\n",
       "      <th>Education-Num</th>\n",
       "      <th>Maritial-Status</th>\n",
       "      <th>Occupation</th>\n",
       "      <th>Relationship</th>\n",
       "      <th>Race</th>\n",
       "      <th>Sex</th>\n",
       "      <th>Capital-Gain</th>\n",
       "      <th>Capital-Loss</th>\n",
       "      <th>Hours-Per-Week</th>\n",
       "      <th>Native-Country</th>\n",
       "      <th>Income</th>\n",
       "    </tr>\n",
       "  </thead>\n",
       "  <tbody>\n",
       "    <tr>\n",
       "      <td>0</td>\n",
       "      <td>50</td>\n",
       "      <td>Self-emp-not-inc</td>\n",
       "      <td>83311</td>\n",
       "      <td>Bachelors</td>\n",
       "      <td>13</td>\n",
       "      <td>Married-civ-spouse</td>\n",
       "      <td>Exec-managerial</td>\n",
       "      <td>Husband</td>\n",
       "      <td>White</td>\n",
       "      <td>Male</td>\n",
       "      <td>0</td>\n",
       "      <td>0</td>\n",
       "      <td>13</td>\n",
       "      <td>United-States</td>\n",
       "      <td>&lt;=50K</td>\n",
       "    </tr>\n",
       "    <tr>\n",
       "      <td>1</td>\n",
       "      <td>38</td>\n",
       "      <td>Private</td>\n",
       "      <td>215646</td>\n",
       "      <td>HS-grad</td>\n",
       "      <td>9</td>\n",
       "      <td>Divorced</td>\n",
       "      <td>Handlers-cleaners</td>\n",
       "      <td>Not-in-family</td>\n",
       "      <td>White</td>\n",
       "      <td>Male</td>\n",
       "      <td>0</td>\n",
       "      <td>0</td>\n",
       "      <td>40</td>\n",
       "      <td>United-States</td>\n",
       "      <td>&lt;=50K</td>\n",
       "    </tr>\n",
       "    <tr>\n",
       "      <td>2</td>\n",
       "      <td>53</td>\n",
       "      <td>Private</td>\n",
       "      <td>234721</td>\n",
       "      <td>11th</td>\n",
       "      <td>7</td>\n",
       "      <td>Married-civ-spouse</td>\n",
       "      <td>Handlers-cleaners</td>\n",
       "      <td>Husband</td>\n",
       "      <td>Black</td>\n",
       "      <td>Male</td>\n",
       "      <td>0</td>\n",
       "      <td>0</td>\n",
       "      <td>40</td>\n",
       "      <td>United-States</td>\n",
       "      <td>&lt;=50K</td>\n",
       "    </tr>\n",
       "    <tr>\n",
       "      <td>3</td>\n",
       "      <td>28</td>\n",
       "      <td>Private</td>\n",
       "      <td>338409</td>\n",
       "      <td>Bachelors</td>\n",
       "      <td>13</td>\n",
       "      <td>Married-civ-spouse</td>\n",
       "      <td>Prof-specialty</td>\n",
       "      <td>Wife</td>\n",
       "      <td>Black</td>\n",
       "      <td>Female</td>\n",
       "      <td>0</td>\n",
       "      <td>0</td>\n",
       "      <td>40</td>\n",
       "      <td>Cuba</td>\n",
       "      <td>&lt;=50K</td>\n",
       "    </tr>\n",
       "    <tr>\n",
       "      <td>4</td>\n",
       "      <td>37</td>\n",
       "      <td>Private</td>\n",
       "      <td>284582</td>\n",
       "      <td>Masters</td>\n",
       "      <td>14</td>\n",
       "      <td>Married-civ-spouse</td>\n",
       "      <td>Exec-managerial</td>\n",
       "      <td>Wife</td>\n",
       "      <td>White</td>\n",
       "      <td>Female</td>\n",
       "      <td>0</td>\n",
       "      <td>0</td>\n",
       "      <td>40</td>\n",
       "      <td>United-States</td>\n",
       "      <td>&lt;=50K</td>\n",
       "    </tr>\n",
       "  </tbody>\n",
       "</table>\n",
       "</div>"
      ],
      "text/plain": [
       "   Age          Workclass  Fnlwgt   Education  Education-Num  \\\n",
       "0   50   Self-emp-not-inc   83311   Bachelors             13   \n",
       "1   38            Private  215646     HS-grad              9   \n",
       "2   53            Private  234721        11th              7   \n",
       "3   28            Private  338409   Bachelors             13   \n",
       "4   37            Private  284582     Masters             14   \n",
       "\n",
       "       Maritial-Status          Occupation    Relationship    Race      Sex  \\\n",
       "0   Married-civ-spouse     Exec-managerial         Husband   White     Male   \n",
       "1             Divorced   Handlers-cleaners   Not-in-family   White     Male   \n",
       "2   Married-civ-spouse   Handlers-cleaners         Husband   Black     Male   \n",
       "3   Married-civ-spouse      Prof-specialty            Wife   Black   Female   \n",
       "4   Married-civ-spouse     Exec-managerial            Wife   White   Female   \n",
       "\n",
       "   Capital-Gain  Capital-Loss  Hours-Per-Week  Native-Country  Income  \n",
       "0             0             0              13   United-States   <=50K  \n",
       "1             0             0              40   United-States   <=50K  \n",
       "2             0             0              40   United-States   <=50K  \n",
       "3             0             0              40            Cuba   <=50K  \n",
       "4             0             0              40   United-States   <=50K  "
      ]
     },
     "execution_count": 41,
     "metadata": {},
     "output_type": "execute_result"
    }
   ],
   "source": [
    "# Explicitly defined columns because the csv file didn't have column names\n",
    "data.columns = ['Age', 'Workclass', 'Fnlwgt', 'Education', 'Education-Num', 'Maritial-Status', 'Occupation', 'Relationship', 'Race', 'Sex', 'Capital-Gain', 'Capital-Loss', 'Hours-Per-Week', 'Native-Country', 'Income']\n",
    "data.head()"
   ]
  },
  {
   "cell_type": "code",
   "execution_count": 42,
   "metadata": {},
   "outputs": [
    {
     "data": {
      "text/html": [
       "<div>\n",
       "<style scoped>\n",
       "    .dataframe tbody tr th:only-of-type {\n",
       "        vertical-align: middle;\n",
       "    }\n",
       "\n",
       "    .dataframe tbody tr th {\n",
       "        vertical-align: top;\n",
       "    }\n",
       "\n",
       "    .dataframe thead th {\n",
       "        text-align: right;\n",
       "    }\n",
       "</style>\n",
       "<table border=\"1\" class=\"dataframe\">\n",
       "  <thead>\n",
       "    <tr style=\"text-align: right;\">\n",
       "      <th></th>\n",
       "      <th>Age</th>\n",
       "      <th>Workclass</th>\n",
       "      <th>Fnlwgt</th>\n",
       "      <th>Education</th>\n",
       "      <th>Education-Num</th>\n",
       "      <th>Maritial-Status</th>\n",
       "      <th>Occupation</th>\n",
       "      <th>Relationship</th>\n",
       "      <th>Race</th>\n",
       "      <th>Sex</th>\n",
       "      <th>Capital-Gain</th>\n",
       "      <th>Capital-Loss</th>\n",
       "      <th>Hours-Per-Week</th>\n",
       "      <th>Native-Country</th>\n",
       "      <th>Income</th>\n",
       "    </tr>\n",
       "  </thead>\n",
       "  <tbody>\n",
       "    <tr>\n",
       "      <td>0</td>\n",
       "      <td>50</td>\n",
       "      <td>Self-emp-not-inc</td>\n",
       "      <td>83311</td>\n",
       "      <td>Bachelors</td>\n",
       "      <td>13</td>\n",
       "      <td>Married-civ-spouse</td>\n",
       "      <td>Exec-managerial</td>\n",
       "      <td>Husband</td>\n",
       "      <td>White</td>\n",
       "      <td>Male</td>\n",
       "      <td>0</td>\n",
       "      <td>0</td>\n",
       "      <td>13</td>\n",
       "      <td>United-States</td>\n",
       "      <td>&lt;=50K</td>\n",
       "    </tr>\n",
       "    <tr>\n",
       "      <td>1</td>\n",
       "      <td>38</td>\n",
       "      <td>Private</td>\n",
       "      <td>215646</td>\n",
       "      <td>HS-grad</td>\n",
       "      <td>9</td>\n",
       "      <td>Divorced</td>\n",
       "      <td>Handlers-cleaners</td>\n",
       "      <td>Not-in-family</td>\n",
       "      <td>White</td>\n",
       "      <td>Male</td>\n",
       "      <td>0</td>\n",
       "      <td>0</td>\n",
       "      <td>40</td>\n",
       "      <td>United-States</td>\n",
       "      <td>&lt;=50K</td>\n",
       "    </tr>\n",
       "    <tr>\n",
       "      <td>2</td>\n",
       "      <td>53</td>\n",
       "      <td>Private</td>\n",
       "      <td>234721</td>\n",
       "      <td>11th</td>\n",
       "      <td>7</td>\n",
       "      <td>Married-civ-spouse</td>\n",
       "      <td>Handlers-cleaners</td>\n",
       "      <td>Husband</td>\n",
       "      <td>Black</td>\n",
       "      <td>Male</td>\n",
       "      <td>0</td>\n",
       "      <td>0</td>\n",
       "      <td>40</td>\n",
       "      <td>United-States</td>\n",
       "      <td>&lt;=50K</td>\n",
       "    </tr>\n",
       "    <tr>\n",
       "      <td>3</td>\n",
       "      <td>28</td>\n",
       "      <td>Private</td>\n",
       "      <td>338409</td>\n",
       "      <td>Bachelors</td>\n",
       "      <td>13</td>\n",
       "      <td>Married-civ-spouse</td>\n",
       "      <td>Prof-specialty</td>\n",
       "      <td>Wife</td>\n",
       "      <td>Black</td>\n",
       "      <td>Female</td>\n",
       "      <td>0</td>\n",
       "      <td>0</td>\n",
       "      <td>40</td>\n",
       "      <td>Cuba</td>\n",
       "      <td>&lt;=50K</td>\n",
       "    </tr>\n",
       "    <tr>\n",
       "      <td>4</td>\n",
       "      <td>37</td>\n",
       "      <td>Private</td>\n",
       "      <td>284582</td>\n",
       "      <td>Masters</td>\n",
       "      <td>14</td>\n",
       "      <td>Married-civ-spouse</td>\n",
       "      <td>Exec-managerial</td>\n",
       "      <td>Wife</td>\n",
       "      <td>White</td>\n",
       "      <td>Female</td>\n",
       "      <td>0</td>\n",
       "      <td>0</td>\n",
       "      <td>40</td>\n",
       "      <td>United-States</td>\n",
       "      <td>&lt;=50K</td>\n",
       "    </tr>\n",
       "  </tbody>\n",
       "</table>\n",
       "</div>"
      ],
      "text/plain": [
       "   Age          Workclass  Fnlwgt   Education  Education-Num  \\\n",
       "0   50   Self-emp-not-inc   83311   Bachelors             13   \n",
       "1   38            Private  215646     HS-grad              9   \n",
       "2   53            Private  234721        11th              7   \n",
       "3   28            Private  338409   Bachelors             13   \n",
       "4   37            Private  284582     Masters             14   \n",
       "\n",
       "       Maritial-Status          Occupation    Relationship    Race      Sex  \\\n",
       "0   Married-civ-spouse     Exec-managerial         Husband   White     Male   \n",
       "1             Divorced   Handlers-cleaners   Not-in-family   White     Male   \n",
       "2   Married-civ-spouse   Handlers-cleaners         Husband   Black     Male   \n",
       "3   Married-civ-spouse      Prof-specialty            Wife   Black   Female   \n",
       "4   Married-civ-spouse     Exec-managerial            Wife   White   Female   \n",
       "\n",
       "   Capital-Gain  Capital-Loss  Hours-Per-Week  Native-Country  Income  \n",
       "0             0             0              13   United-States   <=50K  \n",
       "1             0             0              40   United-States   <=50K  \n",
       "2             0             0              40   United-States   <=50K  \n",
       "3             0             0              40            Cuba   <=50K  \n",
       "4             0             0              40   United-States   <=50K  "
      ]
     },
     "execution_count": 42,
     "metadata": {},
     "output_type": "execute_result"
    }
   ],
   "source": [
    "#checked for missing values\n",
    "data.isnull().sum()\n",
    "data.head()"
   ]
  },
  {
   "cell_type": "code",
   "execution_count": 43,
   "metadata": {},
   "outputs": [
    {
     "data": {
      "text/html": [
       "<div>\n",
       "<style scoped>\n",
       "    .dataframe tbody tr th:only-of-type {\n",
       "        vertical-align: middle;\n",
       "    }\n",
       "\n",
       "    .dataframe tbody tr th {\n",
       "        vertical-align: top;\n",
       "    }\n",
       "\n",
       "    .dataframe thead th {\n",
       "        text-align: right;\n",
       "    }\n",
       "</style>\n",
       "<table border=\"1\" class=\"dataframe\">\n",
       "  <thead>\n",
       "    <tr style=\"text-align: right;\">\n",
       "      <th></th>\n",
       "      <th>Workclass</th>\n",
       "      <th>Education</th>\n",
       "      <th>Maritial-Status</th>\n",
       "      <th>Occupation</th>\n",
       "      <th>Relationship</th>\n",
       "      <th>Race</th>\n",
       "      <th>Sex</th>\n",
       "      <th>Native-Country</th>\n",
       "      <th>Income</th>\n",
       "      <th>Age</th>\n",
       "      <th>Fnlwgt</th>\n",
       "      <th>Education-Num</th>\n",
       "      <th>Capital-Gain</th>\n",
       "      <th>Capital-Loss</th>\n",
       "      <th>Hours-Per-Week</th>\n",
       "    </tr>\n",
       "  </thead>\n",
       "  <tbody>\n",
       "    <tr>\n",
       "      <td>0</td>\n",
       "      <td>6</td>\n",
       "      <td>9</td>\n",
       "      <td>2</td>\n",
       "      <td>4</td>\n",
       "      <td>0</td>\n",
       "      <td>4</td>\n",
       "      <td>1</td>\n",
       "      <td>39</td>\n",
       "      <td>0</td>\n",
       "      <td>50</td>\n",
       "      <td>83311</td>\n",
       "      <td>13</td>\n",
       "      <td>0</td>\n",
       "      <td>0</td>\n",
       "      <td>13</td>\n",
       "    </tr>\n",
       "    <tr>\n",
       "      <td>1</td>\n",
       "      <td>4</td>\n",
       "      <td>11</td>\n",
       "      <td>0</td>\n",
       "      <td>6</td>\n",
       "      <td>1</td>\n",
       "      <td>4</td>\n",
       "      <td>1</td>\n",
       "      <td>39</td>\n",
       "      <td>0</td>\n",
       "      <td>38</td>\n",
       "      <td>215646</td>\n",
       "      <td>9</td>\n",
       "      <td>0</td>\n",
       "      <td>0</td>\n",
       "      <td>40</td>\n",
       "    </tr>\n",
       "    <tr>\n",
       "      <td>2</td>\n",
       "      <td>4</td>\n",
       "      <td>1</td>\n",
       "      <td>2</td>\n",
       "      <td>6</td>\n",
       "      <td>0</td>\n",
       "      <td>2</td>\n",
       "      <td>1</td>\n",
       "      <td>39</td>\n",
       "      <td>0</td>\n",
       "      <td>53</td>\n",
       "      <td>234721</td>\n",
       "      <td>7</td>\n",
       "      <td>0</td>\n",
       "      <td>0</td>\n",
       "      <td>40</td>\n",
       "    </tr>\n",
       "    <tr>\n",
       "      <td>3</td>\n",
       "      <td>4</td>\n",
       "      <td>9</td>\n",
       "      <td>2</td>\n",
       "      <td>10</td>\n",
       "      <td>5</td>\n",
       "      <td>2</td>\n",
       "      <td>0</td>\n",
       "      <td>5</td>\n",
       "      <td>0</td>\n",
       "      <td>28</td>\n",
       "      <td>338409</td>\n",
       "      <td>13</td>\n",
       "      <td>0</td>\n",
       "      <td>0</td>\n",
       "      <td>40</td>\n",
       "    </tr>\n",
       "    <tr>\n",
       "      <td>4</td>\n",
       "      <td>4</td>\n",
       "      <td>12</td>\n",
       "      <td>2</td>\n",
       "      <td>4</td>\n",
       "      <td>5</td>\n",
       "      <td>4</td>\n",
       "      <td>0</td>\n",
       "      <td>39</td>\n",
       "      <td>0</td>\n",
       "      <td>37</td>\n",
       "      <td>284582</td>\n",
       "      <td>14</td>\n",
       "      <td>0</td>\n",
       "      <td>0</td>\n",
       "      <td>40</td>\n",
       "    </tr>\n",
       "  </tbody>\n",
       "</table>\n",
       "</div>"
      ],
      "text/plain": [
       "   Workclass  Education  Maritial-Status  Occupation  Relationship  Race  Sex  \\\n",
       "0          6          9                2           4             0     4    1   \n",
       "1          4         11                0           6             1     4    1   \n",
       "2          4          1                2           6             0     2    1   \n",
       "3          4          9                2          10             5     2    0   \n",
       "4          4         12                2           4             5     4    0   \n",
       "\n",
       "   Native-Country  Income  Age  Fnlwgt  Education-Num  Capital-Gain  \\\n",
       "0              39       0   50   83311             13             0   \n",
       "1              39       0   38  215646              9             0   \n",
       "2              39       0   53  234721              7             0   \n",
       "3               5       0   28  338409             13             0   \n",
       "4              39       0   37  284582             14             0   \n",
       "\n",
       "   Capital-Loss  Hours-Per-Week  \n",
       "0             0              13  \n",
       "1             0              40  \n",
       "2             0              40  \n",
       "3             0              40  \n",
       "4             0              40  "
      ]
     },
     "execution_count": 43,
     "metadata": {},
     "output_type": "execute_result"
    }
   ],
   "source": [
    "#This changes the obj_data into numerical by using the labelEncoder \n",
    "obj_data = data.select_dtypes(include=['object']).copy()\n",
    "int_data = data.select_dtypes(include=['int64']).copy()\n",
    "df_enc = obj_data.apply(preprocessing.LabelEncoder().fit_transform)\n",
    "\n",
    "df = df_enc.merge(int_data, left_index=True, right_index=True)\n",
    "df.head()"
   ]
  },
  {
   "cell_type": "code",
   "execution_count": 44,
   "metadata": {},
   "outputs": [
    {
     "data": {
      "text/html": [
       "<div>\n",
       "<style scoped>\n",
       "    .dataframe tbody tr th:only-of-type {\n",
       "        vertical-align: middle;\n",
       "    }\n",
       "\n",
       "    .dataframe tbody tr th {\n",
       "        vertical-align: top;\n",
       "    }\n",
       "\n",
       "    .dataframe thead th {\n",
       "        text-align: right;\n",
       "    }\n",
       "</style>\n",
       "<table border=\"1\" class=\"dataframe\">\n",
       "  <thead>\n",
       "    <tr style=\"text-align: right;\">\n",
       "      <th></th>\n",
       "      <th>Workclass</th>\n",
       "      <th>Education</th>\n",
       "      <th>Maritial-Status</th>\n",
       "      <th>Occupation</th>\n",
       "      <th>Relationship</th>\n",
       "      <th>Race</th>\n",
       "      <th>Sex</th>\n",
       "      <th>Native-Country</th>\n",
       "      <th>Income</th>\n",
       "      <th>Age</th>\n",
       "      <th>Fnlwgt</th>\n",
       "      <th>Education-Num</th>\n",
       "      <th>Capital-Gain</th>\n",
       "      <th>Capital-Loss</th>\n",
       "      <th>Hours-Per-Week</th>\n",
       "    </tr>\n",
       "  </thead>\n",
       "  <tbody>\n",
       "    <tr>\n",
       "      <td>count</td>\n",
       "      <td>32560.000000</td>\n",
       "      <td>32560.000000</td>\n",
       "      <td>32560.000000</td>\n",
       "      <td>32560.000000</td>\n",
       "      <td>32560.000000</td>\n",
       "      <td>32560.000000</td>\n",
       "      <td>32560.000000</td>\n",
       "      <td>32560.000000</td>\n",
       "      <td>32560.000000</td>\n",
       "      <td>32560.000000</td>\n",
       "      <td>3.256000e+04</td>\n",
       "      <td>32560.000000</td>\n",
       "      <td>32560.000000</td>\n",
       "      <td>32560.000000</td>\n",
       "      <td>32560.000000</td>\n",
       "    </tr>\n",
       "    <tr>\n",
       "      <td>mean</td>\n",
       "      <td>3.868796</td>\n",
       "      <td>10.298249</td>\n",
       "      <td>2.611794</td>\n",
       "      <td>6.572912</td>\n",
       "      <td>1.446376</td>\n",
       "      <td>3.665848</td>\n",
       "      <td>0.669195</td>\n",
       "      <td>36.718796</td>\n",
       "      <td>0.240817</td>\n",
       "      <td>38.581634</td>\n",
       "      <td>1.897818e+05</td>\n",
       "      <td>10.080590</td>\n",
       "      <td>1077.615172</td>\n",
       "      <td>87.306511</td>\n",
       "      <td>40.437469</td>\n",
       "    </tr>\n",
       "    <tr>\n",
       "      <td>std</td>\n",
       "      <td>1.455879</td>\n",
       "      <td>3.870317</td>\n",
       "      <td>1.506225</td>\n",
       "      <td>4.228809</td>\n",
       "      <td>1.606794</td>\n",
       "      <td>0.848817</td>\n",
       "      <td>0.470510</td>\n",
       "      <td>7.823892</td>\n",
       "      <td>0.427586</td>\n",
       "      <td>13.640642</td>\n",
       "      <td>1.055498e+05</td>\n",
       "      <td>2.572709</td>\n",
       "      <td>7385.402999</td>\n",
       "      <td>402.966116</td>\n",
       "      <td>12.347618</td>\n",
       "    </tr>\n",
       "    <tr>\n",
       "      <td>min</td>\n",
       "      <td>0.000000</td>\n",
       "      <td>0.000000</td>\n",
       "      <td>0.000000</td>\n",
       "      <td>0.000000</td>\n",
       "      <td>0.000000</td>\n",
       "      <td>0.000000</td>\n",
       "      <td>0.000000</td>\n",
       "      <td>0.000000</td>\n",
       "      <td>0.000000</td>\n",
       "      <td>17.000000</td>\n",
       "      <td>1.228500e+04</td>\n",
       "      <td>1.000000</td>\n",
       "      <td>0.000000</td>\n",
       "      <td>0.000000</td>\n",
       "      <td>1.000000</td>\n",
       "    </tr>\n",
       "    <tr>\n",
       "      <td>25%</td>\n",
       "      <td>4.000000</td>\n",
       "      <td>9.000000</td>\n",
       "      <td>2.000000</td>\n",
       "      <td>3.000000</td>\n",
       "      <td>0.000000</td>\n",
       "      <td>4.000000</td>\n",
       "      <td>0.000000</td>\n",
       "      <td>39.000000</td>\n",
       "      <td>0.000000</td>\n",
       "      <td>28.000000</td>\n",
       "      <td>1.178315e+05</td>\n",
       "      <td>9.000000</td>\n",
       "      <td>0.000000</td>\n",
       "      <td>0.000000</td>\n",
       "      <td>40.000000</td>\n",
       "    </tr>\n",
       "    <tr>\n",
       "      <td>50%</td>\n",
       "      <td>4.000000</td>\n",
       "      <td>11.000000</td>\n",
       "      <td>2.000000</td>\n",
       "      <td>7.000000</td>\n",
       "      <td>1.000000</td>\n",
       "      <td>4.000000</td>\n",
       "      <td>1.000000</td>\n",
       "      <td>39.000000</td>\n",
       "      <td>0.000000</td>\n",
       "      <td>37.000000</td>\n",
       "      <td>1.783630e+05</td>\n",
       "      <td>10.000000</td>\n",
       "      <td>0.000000</td>\n",
       "      <td>0.000000</td>\n",
       "      <td>40.000000</td>\n",
       "    </tr>\n",
       "    <tr>\n",
       "      <td>75%</td>\n",
       "      <td>4.000000</td>\n",
       "      <td>12.000000</td>\n",
       "      <td>4.000000</td>\n",
       "      <td>10.000000</td>\n",
       "      <td>3.000000</td>\n",
       "      <td>4.000000</td>\n",
       "      <td>1.000000</td>\n",
       "      <td>39.000000</td>\n",
       "      <td>0.000000</td>\n",
       "      <td>48.000000</td>\n",
       "      <td>2.370545e+05</td>\n",
       "      <td>12.000000</td>\n",
       "      <td>0.000000</td>\n",
       "      <td>0.000000</td>\n",
       "      <td>45.000000</td>\n",
       "    </tr>\n",
       "    <tr>\n",
       "      <td>max</td>\n",
       "      <td>8.000000</td>\n",
       "      <td>15.000000</td>\n",
       "      <td>6.000000</td>\n",
       "      <td>14.000000</td>\n",
       "      <td>5.000000</td>\n",
       "      <td>4.000000</td>\n",
       "      <td>1.000000</td>\n",
       "      <td>41.000000</td>\n",
       "      <td>1.000000</td>\n",
       "      <td>90.000000</td>\n",
       "      <td>1.484705e+06</td>\n",
       "      <td>16.000000</td>\n",
       "      <td>99999.000000</td>\n",
       "      <td>4356.000000</td>\n",
       "      <td>99.000000</td>\n",
       "    </tr>\n",
       "  </tbody>\n",
       "</table>\n",
       "</div>"
      ],
      "text/plain": [
       "          Workclass     Education  Maritial-Status    Occupation  \\\n",
       "count  32560.000000  32560.000000     32560.000000  32560.000000   \n",
       "mean       3.868796     10.298249         2.611794      6.572912   \n",
       "std        1.455879      3.870317         1.506225      4.228809   \n",
       "min        0.000000      0.000000         0.000000      0.000000   \n",
       "25%        4.000000      9.000000         2.000000      3.000000   \n",
       "50%        4.000000     11.000000         2.000000      7.000000   \n",
       "75%        4.000000     12.000000         4.000000     10.000000   \n",
       "max        8.000000     15.000000         6.000000     14.000000   \n",
       "\n",
       "       Relationship          Race           Sex  Native-Country        Income  \\\n",
       "count  32560.000000  32560.000000  32560.000000    32560.000000  32560.000000   \n",
       "mean       1.446376      3.665848      0.669195       36.718796      0.240817   \n",
       "std        1.606794      0.848817      0.470510        7.823892      0.427586   \n",
       "min        0.000000      0.000000      0.000000        0.000000      0.000000   \n",
       "25%        0.000000      4.000000      0.000000       39.000000      0.000000   \n",
       "50%        1.000000      4.000000      1.000000       39.000000      0.000000   \n",
       "75%        3.000000      4.000000      1.000000       39.000000      0.000000   \n",
       "max        5.000000      4.000000      1.000000       41.000000      1.000000   \n",
       "\n",
       "                Age        Fnlwgt  Education-Num  Capital-Gain  Capital-Loss  \\\n",
       "count  32560.000000  3.256000e+04   32560.000000  32560.000000  32560.000000   \n",
       "mean      38.581634  1.897818e+05      10.080590   1077.615172     87.306511   \n",
       "std       13.640642  1.055498e+05       2.572709   7385.402999    402.966116   \n",
       "min       17.000000  1.228500e+04       1.000000      0.000000      0.000000   \n",
       "25%       28.000000  1.178315e+05       9.000000      0.000000      0.000000   \n",
       "50%       37.000000  1.783630e+05      10.000000      0.000000      0.000000   \n",
       "75%       48.000000  2.370545e+05      12.000000      0.000000      0.000000   \n",
       "max       90.000000  1.484705e+06      16.000000  99999.000000   4356.000000   \n",
       "\n",
       "       Hours-Per-Week  \n",
       "count    32560.000000  \n",
       "mean        40.437469  \n",
       "std         12.347618  \n",
       "min          1.000000  \n",
       "25%         40.000000  \n",
       "50%         40.000000  \n",
       "75%         45.000000  \n",
       "max         99.000000  "
      ]
     },
     "execution_count": 44,
     "metadata": {},
     "output_type": "execute_result"
    }
   ],
   "source": [
    "df.describe()"
   ]
  },
  {
   "cell_type": "code",
   "execution_count": 45,
   "metadata": {},
   "outputs": [
    {
     "data": {
      "text/html": [
       "<div>\n",
       "<style scoped>\n",
       "    .dataframe tbody tr th:only-of-type {\n",
       "        vertical-align: middle;\n",
       "    }\n",
       "\n",
       "    .dataframe tbody tr th {\n",
       "        vertical-align: top;\n",
       "    }\n",
       "\n",
       "    .dataframe thead th {\n",
       "        text-align: right;\n",
       "    }\n",
       "</style>\n",
       "<table border=\"1\" class=\"dataframe\">\n",
       "  <thead>\n",
       "    <tr style=\"text-align: right;\">\n",
       "      <th></th>\n",
       "      <th>Workclass</th>\n",
       "      <th>Education</th>\n",
       "      <th>Maritial-Status</th>\n",
       "      <th>Occupation</th>\n",
       "      <th>Relationship</th>\n",
       "      <th>Race</th>\n",
       "      <th>Sex</th>\n",
       "      <th>Native-Country</th>\n",
       "      <th>Income</th>\n",
       "      <th>Age</th>\n",
       "      <th>Education-Num</th>\n",
       "      <th>Capital-Gain</th>\n",
       "      <th>Capital-Loss</th>\n",
       "      <th>Hours-Per-Week</th>\n",
       "    </tr>\n",
       "  </thead>\n",
       "  <tbody>\n",
       "    <tr>\n",
       "      <td>0</td>\n",
       "      <td>6</td>\n",
       "      <td>9</td>\n",
       "      <td>2</td>\n",
       "      <td>4</td>\n",
       "      <td>0</td>\n",
       "      <td>4</td>\n",
       "      <td>1</td>\n",
       "      <td>39</td>\n",
       "      <td>0</td>\n",
       "      <td>50</td>\n",
       "      <td>13</td>\n",
       "      <td>0</td>\n",
       "      <td>0</td>\n",
       "      <td>13</td>\n",
       "    </tr>\n",
       "    <tr>\n",
       "      <td>1</td>\n",
       "      <td>4</td>\n",
       "      <td>11</td>\n",
       "      <td>0</td>\n",
       "      <td>6</td>\n",
       "      <td>1</td>\n",
       "      <td>4</td>\n",
       "      <td>1</td>\n",
       "      <td>39</td>\n",
       "      <td>0</td>\n",
       "      <td>38</td>\n",
       "      <td>9</td>\n",
       "      <td>0</td>\n",
       "      <td>0</td>\n",
       "      <td>40</td>\n",
       "    </tr>\n",
       "    <tr>\n",
       "      <td>2</td>\n",
       "      <td>4</td>\n",
       "      <td>1</td>\n",
       "      <td>2</td>\n",
       "      <td>6</td>\n",
       "      <td>0</td>\n",
       "      <td>2</td>\n",
       "      <td>1</td>\n",
       "      <td>39</td>\n",
       "      <td>0</td>\n",
       "      <td>53</td>\n",
       "      <td>7</td>\n",
       "      <td>0</td>\n",
       "      <td>0</td>\n",
       "      <td>40</td>\n",
       "    </tr>\n",
       "    <tr>\n",
       "      <td>3</td>\n",
       "      <td>4</td>\n",
       "      <td>9</td>\n",
       "      <td>2</td>\n",
       "      <td>10</td>\n",
       "      <td>5</td>\n",
       "      <td>2</td>\n",
       "      <td>0</td>\n",
       "      <td>5</td>\n",
       "      <td>0</td>\n",
       "      <td>28</td>\n",
       "      <td>13</td>\n",
       "      <td>0</td>\n",
       "      <td>0</td>\n",
       "      <td>40</td>\n",
       "    </tr>\n",
       "    <tr>\n",
       "      <td>4</td>\n",
       "      <td>4</td>\n",
       "      <td>12</td>\n",
       "      <td>2</td>\n",
       "      <td>4</td>\n",
       "      <td>5</td>\n",
       "      <td>4</td>\n",
       "      <td>0</td>\n",
       "      <td>39</td>\n",
       "      <td>0</td>\n",
       "      <td>37</td>\n",
       "      <td>14</td>\n",
       "      <td>0</td>\n",
       "      <td>0</td>\n",
       "      <td>40</td>\n",
       "    </tr>\n",
       "    <tr>\n",
       "      <td>...</td>\n",
       "      <td>...</td>\n",
       "      <td>...</td>\n",
       "      <td>...</td>\n",
       "      <td>...</td>\n",
       "      <td>...</td>\n",
       "      <td>...</td>\n",
       "      <td>...</td>\n",
       "      <td>...</td>\n",
       "      <td>...</td>\n",
       "      <td>...</td>\n",
       "      <td>...</td>\n",
       "      <td>...</td>\n",
       "      <td>...</td>\n",
       "      <td>...</td>\n",
       "    </tr>\n",
       "    <tr>\n",
       "      <td>32555</td>\n",
       "      <td>4</td>\n",
       "      <td>7</td>\n",
       "      <td>2</td>\n",
       "      <td>13</td>\n",
       "      <td>5</td>\n",
       "      <td>4</td>\n",
       "      <td>0</td>\n",
       "      <td>39</td>\n",
       "      <td>0</td>\n",
       "      <td>27</td>\n",
       "      <td>12</td>\n",
       "      <td>0</td>\n",
       "      <td>0</td>\n",
       "      <td>38</td>\n",
       "    </tr>\n",
       "    <tr>\n",
       "      <td>32556</td>\n",
       "      <td>4</td>\n",
       "      <td>11</td>\n",
       "      <td>2</td>\n",
       "      <td>7</td>\n",
       "      <td>0</td>\n",
       "      <td>4</td>\n",
       "      <td>1</td>\n",
       "      <td>39</td>\n",
       "      <td>1</td>\n",
       "      <td>40</td>\n",
       "      <td>9</td>\n",
       "      <td>0</td>\n",
       "      <td>0</td>\n",
       "      <td>40</td>\n",
       "    </tr>\n",
       "    <tr>\n",
       "      <td>32557</td>\n",
       "      <td>4</td>\n",
       "      <td>11</td>\n",
       "      <td>6</td>\n",
       "      <td>1</td>\n",
       "      <td>4</td>\n",
       "      <td>4</td>\n",
       "      <td>0</td>\n",
       "      <td>39</td>\n",
       "      <td>0</td>\n",
       "      <td>58</td>\n",
       "      <td>9</td>\n",
       "      <td>0</td>\n",
       "      <td>0</td>\n",
       "      <td>40</td>\n",
       "    </tr>\n",
       "    <tr>\n",
       "      <td>32558</td>\n",
       "      <td>4</td>\n",
       "      <td>11</td>\n",
       "      <td>4</td>\n",
       "      <td>1</td>\n",
       "      <td>3</td>\n",
       "      <td>4</td>\n",
       "      <td>1</td>\n",
       "      <td>39</td>\n",
       "      <td>0</td>\n",
       "      <td>22</td>\n",
       "      <td>9</td>\n",
       "      <td>0</td>\n",
       "      <td>0</td>\n",
       "      <td>20</td>\n",
       "    </tr>\n",
       "    <tr>\n",
       "      <td>32559</td>\n",
       "      <td>5</td>\n",
       "      <td>11</td>\n",
       "      <td>2</td>\n",
       "      <td>4</td>\n",
       "      <td>5</td>\n",
       "      <td>4</td>\n",
       "      <td>0</td>\n",
       "      <td>39</td>\n",
       "      <td>1</td>\n",
       "      <td>52</td>\n",
       "      <td>9</td>\n",
       "      <td>15024</td>\n",
       "      <td>0</td>\n",
       "      <td>40</td>\n",
       "    </tr>\n",
       "  </tbody>\n",
       "</table>\n",
       "<p>32560 rows × 14 columns</p>\n",
       "</div>"
      ],
      "text/plain": [
       "       Workclass  Education  Maritial-Status  Occupation  Relationship  Race  \\\n",
       "0              6          9                2           4             0     4   \n",
       "1              4         11                0           6             1     4   \n",
       "2              4          1                2           6             0     2   \n",
       "3              4          9                2          10             5     2   \n",
       "4              4         12                2           4             5     4   \n",
       "...          ...        ...              ...         ...           ...   ...   \n",
       "32555          4          7                2          13             5     4   \n",
       "32556          4         11                2           7             0     4   \n",
       "32557          4         11                6           1             4     4   \n",
       "32558          4         11                4           1             3     4   \n",
       "32559          5         11                2           4             5     4   \n",
       "\n",
       "       Sex  Native-Country  Income  Age  Education-Num  Capital-Gain  \\\n",
       "0        1              39       0   50             13             0   \n",
       "1        1              39       0   38              9             0   \n",
       "2        1              39       0   53              7             0   \n",
       "3        0               5       0   28             13             0   \n",
       "4        0              39       0   37             14             0   \n",
       "...    ...             ...     ...  ...            ...           ...   \n",
       "32555    0              39       0   27             12             0   \n",
       "32556    1              39       1   40              9             0   \n",
       "32557    0              39       0   58              9             0   \n",
       "32558    1              39       0   22              9             0   \n",
       "32559    0              39       1   52              9         15024   \n",
       "\n",
       "       Capital-Loss  Hours-Per-Week  \n",
       "0                 0              13  \n",
       "1                 0              40  \n",
       "2                 0              40  \n",
       "3                 0              40  \n",
       "4                 0              40  \n",
       "...             ...             ...  \n",
       "32555             0              38  \n",
       "32556             0              40  \n",
       "32557             0              40  \n",
       "32558             0              20  \n",
       "32559             0              40  \n",
       "\n",
       "[32560 rows x 14 columns]"
      ]
     },
     "execution_count": 45,
     "metadata": {},
     "output_type": "execute_result"
    }
   ],
   "source": [
    "# after changing it to numerical values and looking at the analysis (describe),\n",
    "# we can see that the values of Fnlwgt are much larger than any of the other values\n",
    "# it measure the weight that the individual of the sample has in representing the entirety if a population \n",
    "# we can delete it beause we don't need it for our problem\n",
    "del df['Fnlwgt']\n",
    "df"
   ]
  },
  {
   "cell_type": "code",
   "execution_count": 46,
   "metadata": {
    "scrolled": true
   },
   "outputs": [
    {
     "name": "stdout",
     "output_type": "stream",
     "text": [
      "Workclass           0.0\n",
      "Education           3.0\n",
      "Maritial-Status     2.0\n",
      "Occupation          7.0\n",
      "Relationship        3.0\n",
      "Race                0.0\n",
      "Sex                 1.0\n",
      "Native-Country      0.0\n",
      "Income              0.0\n",
      "Age                20.0\n",
      "Education-Num       3.0\n",
      "Capital-Gain        0.0\n",
      "Capital-Loss        0.0\n",
      "Hours-Per-Week      5.0\n",
      "dtype: float64\n"
     ]
    }
   ],
   "source": [
    "#finding the interquartile range (IQR)\n",
    "Q1 = df.quantile(0.25)\n",
    "Q3 = df.quantile(0.75)\n",
    "IQR = Q3 - Q1\n",
    "print(IQR)"
   ]
  },
  {
   "cell_type": "code",
   "execution_count": 47,
   "metadata": {},
   "outputs": [
    {
     "name": "stdout",
     "output_type": "stream",
     "text": [
      "       Workclass  Education  Maritial-Status  Occupation  Relationship   Race  \\\n",
      "0          False      False            False       False         False  False   \n",
      "1          False      False            False       False         False  False   \n",
      "2          False       True            False       False         False   True   \n",
      "3          False      False            False       False         False   True   \n",
      "4          False      False            False       False         False  False   \n",
      "...          ...        ...              ...         ...           ...    ...   \n",
      "32555      False      False            False       False         False  False   \n",
      "32556      False      False            False       False         False  False   \n",
      "32557      False      False            False       False         False  False   \n",
      "32558      False      False            False       False         False  False   \n",
      "32559      False      False            False       False         False  False   \n",
      "\n",
      "         Sex  Native-Country  Income    Age  Education-Num  Capital-Gain  \\\n",
      "0      False           False   False  False          False         False   \n",
      "1      False           False   False  False          False         False   \n",
      "2      False           False   False  False          False         False   \n",
      "3      False            True   False  False          False         False   \n",
      "4      False           False   False  False          False         False   \n",
      "...      ...             ...     ...    ...            ...           ...   \n",
      "32555  False           False   False  False          False         False   \n",
      "32556  False           False   False  False          False         False   \n",
      "32557  False           False   False  False          False         False   \n",
      "32558  False           False   False  False          False         False   \n",
      "32559  False           False   False  False          False         False   \n",
      "\n",
      "       Capital-Loss  Hours-Per-Week  \n",
      "0             False            True  \n",
      "1             False           False  \n",
      "2             False           False  \n",
      "3             False           False  \n",
      "4             False           False  \n",
      "...             ...             ...  \n",
      "32555         False           False  \n",
      "32556         False           False  \n",
      "32557         False           False  \n",
      "32558         False            True  \n",
      "32559         False           False  \n",
      "\n",
      "[32560 rows x 14 columns]\n"
     ]
    },
    {
     "data": {
      "text/html": [
       "<div>\n",
       "<style scoped>\n",
       "    .dataframe tbody tr th:only-of-type {\n",
       "        vertical-align: middle;\n",
       "    }\n",
       "\n",
       "    .dataframe tbody tr th {\n",
       "        vertical-align: top;\n",
       "    }\n",
       "\n",
       "    .dataframe thead th {\n",
       "        text-align: right;\n",
       "    }\n",
       "</style>\n",
       "<table border=\"1\" class=\"dataframe\">\n",
       "  <thead>\n",
       "    <tr style=\"text-align: right;\">\n",
       "      <th></th>\n",
       "      <th>Workclass</th>\n",
       "      <th>Education</th>\n",
       "      <th>Maritial-Status</th>\n",
       "      <th>Occupation</th>\n",
       "      <th>Relationship</th>\n",
       "      <th>Race</th>\n",
       "      <th>Sex</th>\n",
       "      <th>Native-Country</th>\n",
       "      <th>Income</th>\n",
       "      <th>Age</th>\n",
       "      <th>Education-Num</th>\n",
       "      <th>Capital-Gain</th>\n",
       "      <th>Capital-Loss</th>\n",
       "      <th>Hours-Per-Week</th>\n",
       "    </tr>\n",
       "  </thead>\n",
       "  <tbody>\n",
       "    <tr>\n",
       "      <td>0</td>\n",
       "      <td>True</td>\n",
       "      <td>False</td>\n",
       "      <td>False</td>\n",
       "      <td>False</td>\n",
       "      <td>False</td>\n",
       "      <td>False</td>\n",
       "      <td>False</td>\n",
       "      <td>False</td>\n",
       "      <td>False</td>\n",
       "      <td>False</td>\n",
       "      <td>False</td>\n",
       "      <td>False</td>\n",
       "      <td>False</td>\n",
       "      <td>False</td>\n",
       "    </tr>\n",
       "    <tr>\n",
       "      <td>1</td>\n",
       "      <td>False</td>\n",
       "      <td>False</td>\n",
       "      <td>False</td>\n",
       "      <td>False</td>\n",
       "      <td>False</td>\n",
       "      <td>False</td>\n",
       "      <td>False</td>\n",
       "      <td>False</td>\n",
       "      <td>False</td>\n",
       "      <td>False</td>\n",
       "      <td>False</td>\n",
       "      <td>False</td>\n",
       "      <td>False</td>\n",
       "      <td>False</td>\n",
       "    </tr>\n",
       "    <tr>\n",
       "      <td>2</td>\n",
       "      <td>False</td>\n",
       "      <td>False</td>\n",
       "      <td>False</td>\n",
       "      <td>False</td>\n",
       "      <td>False</td>\n",
       "      <td>False</td>\n",
       "      <td>False</td>\n",
       "      <td>False</td>\n",
       "      <td>False</td>\n",
       "      <td>False</td>\n",
       "      <td>False</td>\n",
       "      <td>False</td>\n",
       "      <td>False</td>\n",
       "      <td>False</td>\n",
       "    </tr>\n",
       "    <tr>\n",
       "      <td>3</td>\n",
       "      <td>False</td>\n",
       "      <td>False</td>\n",
       "      <td>False</td>\n",
       "      <td>False</td>\n",
       "      <td>False</td>\n",
       "      <td>False</td>\n",
       "      <td>False</td>\n",
       "      <td>False</td>\n",
       "      <td>False</td>\n",
       "      <td>False</td>\n",
       "      <td>False</td>\n",
       "      <td>False</td>\n",
       "      <td>False</td>\n",
       "      <td>False</td>\n",
       "    </tr>\n",
       "    <tr>\n",
       "      <td>4</td>\n",
       "      <td>False</td>\n",
       "      <td>False</td>\n",
       "      <td>False</td>\n",
       "      <td>False</td>\n",
       "      <td>False</td>\n",
       "      <td>False</td>\n",
       "      <td>False</td>\n",
       "      <td>False</td>\n",
       "      <td>False</td>\n",
       "      <td>False</td>\n",
       "      <td>False</td>\n",
       "      <td>False</td>\n",
       "      <td>False</td>\n",
       "      <td>False</td>\n",
       "    </tr>\n",
       "    <tr>\n",
       "      <td>...</td>\n",
       "      <td>...</td>\n",
       "      <td>...</td>\n",
       "      <td>...</td>\n",
       "      <td>...</td>\n",
       "      <td>...</td>\n",
       "      <td>...</td>\n",
       "      <td>...</td>\n",
       "      <td>...</td>\n",
       "      <td>...</td>\n",
       "      <td>...</td>\n",
       "      <td>...</td>\n",
       "      <td>...</td>\n",
       "      <td>...</td>\n",
       "      <td>...</td>\n",
       "    </tr>\n",
       "    <tr>\n",
       "      <td>32555</td>\n",
       "      <td>False</td>\n",
       "      <td>False</td>\n",
       "      <td>False</td>\n",
       "      <td>False</td>\n",
       "      <td>False</td>\n",
       "      <td>False</td>\n",
       "      <td>False</td>\n",
       "      <td>False</td>\n",
       "      <td>False</td>\n",
       "      <td>False</td>\n",
       "      <td>False</td>\n",
       "      <td>False</td>\n",
       "      <td>False</td>\n",
       "      <td>False</td>\n",
       "    </tr>\n",
       "    <tr>\n",
       "      <td>32556</td>\n",
       "      <td>False</td>\n",
       "      <td>False</td>\n",
       "      <td>False</td>\n",
       "      <td>False</td>\n",
       "      <td>False</td>\n",
       "      <td>False</td>\n",
       "      <td>False</td>\n",
       "      <td>False</td>\n",
       "      <td>True</td>\n",
       "      <td>False</td>\n",
       "      <td>False</td>\n",
       "      <td>False</td>\n",
       "      <td>False</td>\n",
       "      <td>False</td>\n",
       "    </tr>\n",
       "    <tr>\n",
       "      <td>32557</td>\n",
       "      <td>False</td>\n",
       "      <td>False</td>\n",
       "      <td>False</td>\n",
       "      <td>False</td>\n",
       "      <td>False</td>\n",
       "      <td>False</td>\n",
       "      <td>False</td>\n",
       "      <td>False</td>\n",
       "      <td>False</td>\n",
       "      <td>False</td>\n",
       "      <td>False</td>\n",
       "      <td>False</td>\n",
       "      <td>False</td>\n",
       "      <td>False</td>\n",
       "    </tr>\n",
       "    <tr>\n",
       "      <td>32558</td>\n",
       "      <td>False</td>\n",
       "      <td>False</td>\n",
       "      <td>False</td>\n",
       "      <td>False</td>\n",
       "      <td>False</td>\n",
       "      <td>False</td>\n",
       "      <td>False</td>\n",
       "      <td>False</td>\n",
       "      <td>False</td>\n",
       "      <td>False</td>\n",
       "      <td>False</td>\n",
       "      <td>False</td>\n",
       "      <td>False</td>\n",
       "      <td>False</td>\n",
       "    </tr>\n",
       "    <tr>\n",
       "      <td>32559</td>\n",
       "      <td>True</td>\n",
       "      <td>False</td>\n",
       "      <td>False</td>\n",
       "      <td>False</td>\n",
       "      <td>False</td>\n",
       "      <td>False</td>\n",
       "      <td>False</td>\n",
       "      <td>False</td>\n",
       "      <td>True</td>\n",
       "      <td>False</td>\n",
       "      <td>False</td>\n",
       "      <td>True</td>\n",
       "      <td>False</td>\n",
       "      <td>False</td>\n",
       "    </tr>\n",
       "  </tbody>\n",
       "</table>\n",
       "<p>32560 rows × 14 columns</p>\n",
       "</div>"
      ],
      "text/plain": [
       "       Workclass  Education  Maritial-Status  Occupation  Relationship   Race  \\\n",
       "0           True      False            False       False         False  False   \n",
       "1          False      False            False       False         False  False   \n",
       "2          False      False            False       False         False  False   \n",
       "3          False      False            False       False         False  False   \n",
       "4          False      False            False       False         False  False   \n",
       "...          ...        ...              ...         ...           ...    ...   \n",
       "32555      False      False            False       False         False  False   \n",
       "32556      False      False            False       False         False  False   \n",
       "32557      False      False            False       False         False  False   \n",
       "32558      False      False            False       False         False  False   \n",
       "32559       True      False            False       False         False  False   \n",
       "\n",
       "         Sex  Native-Country  Income    Age  Education-Num  Capital-Gain  \\\n",
       "0      False           False   False  False          False         False   \n",
       "1      False           False   False  False          False         False   \n",
       "2      False           False   False  False          False         False   \n",
       "3      False           False   False  False          False         False   \n",
       "4      False           False   False  False          False         False   \n",
       "...      ...             ...     ...    ...            ...           ...   \n",
       "32555  False           False   False  False          False         False   \n",
       "32556  False           False    True  False          False         False   \n",
       "32557  False           False   False  False          False         False   \n",
       "32558  False           False   False  False          False         False   \n",
       "32559  False           False    True  False          False          True   \n",
       "\n",
       "       Capital-Loss  Hours-Per-Week  \n",
       "0             False           False  \n",
       "1             False           False  \n",
       "2             False           False  \n",
       "3             False           False  \n",
       "4             False           False  \n",
       "...             ...             ...  \n",
       "32555         False           False  \n",
       "32556         False           False  \n",
       "32557         False           False  \n",
       "32558         False           False  \n",
       "32559         False           False  \n",
       "\n",
       "[32560 rows x 14 columns]"
      ]
     },
     "execution_count": 47,
     "metadata": {},
     "output_type": "execute_result"
    }
   ],
   "source": [
    "#the values that are 'True' represent the presence of the outlier\n",
    "print(df < (Q1 - 1.5 * IQR)) or (df > (Q3 + 1.5 * IQR))"
   ]
  },
  {
   "cell_type": "code",
   "execution_count": 48,
   "metadata": {},
   "outputs": [
    {
     "data": {
      "text/plain": [
       "array([[ 1.46388339, -0.33544266, -0.40618296, ..., -0.14591373,\n",
       "        -0.21666301, -2.22212013],\n",
       "       [ 0.09012148,  0.18131885, -1.73402603, ..., -0.14591373,\n",
       "        -0.21666301, -0.03542999],\n",
       "       [ 0.09012148, -2.40248871, -0.40618296, ..., -0.14591373,\n",
       "        -0.21666301, -0.03542999],\n",
       "       ...,\n",
       "       [ 0.09012148,  0.18131885,  2.2495032 , ..., -0.14591373,\n",
       "        -0.21666301, -0.03542999],\n",
       "       [ 0.09012148,  0.18131885,  0.92166012, ..., -0.14591373,\n",
       "        -0.21666301, -1.65520046],\n",
       "       [ 0.77700244,  0.18131885, -0.40618296, ...,  1.88840054,\n",
       "        -0.21666301, -0.03542999]])"
      ]
     },
     "execution_count": 48,
     "metadata": {},
     "output_type": "execute_result"
    }
   ],
   "source": [
    "from scipy import stats\n",
    "z_score = stats.zscore(df)\n",
    "z_score"
   ]
  },
  {
   "cell_type": "code",
   "execution_count": 49,
   "metadata": {},
   "outputs": [
    {
     "data": {
      "text/plain": [
       "{'whiskers': [<matplotlib.lines.Line2D at 0x20f459c1d88>,\n",
       "  <matplotlib.lines.Line2D at 0x20f459c1b08>,\n",
       "  <matplotlib.lines.Line2D at 0x20f459a6d48>,\n",
       "  <matplotlib.lines.Line2D at 0x20f459a6e48>],\n",
       " 'caps': [<matplotlib.lines.Line2D at 0x20f459b5d88>,\n",
       "  <matplotlib.lines.Line2D at 0x20f459b5e88>,\n",
       "  <matplotlib.lines.Line2D at 0x20f459a6f08>,\n",
       "  <matplotlib.lines.Line2D at 0x20f459bdf88>],\n",
       " 'boxes': [<matplotlib.lines.Line2D at 0x20f459c18c8>,\n",
       "  <matplotlib.lines.Line2D at 0x20f459acbc8>],\n",
       " 'medians': [<matplotlib.lines.Line2D at 0x20f459b5f48>,\n",
       "  <matplotlib.lines.Line2D at 0x20f459bdb48>],\n",
       " 'fliers': [<matplotlib.lines.Line2D at 0x20f459acfc8>,\n",
       "  <matplotlib.lines.Line2D at 0x20f459aabc8>],\n",
       " 'means': []}"
      ]
     },
     "execution_count": 49,
     "metadata": {},
     "output_type": "execute_result"
    },
    {
     "data": {
      "image/png": "[encoded data removed]",
      "text/plain": [
       "<Figure size 432x288 with 1 Axes>"
      ]
     },
     "metadata": {
      "needs_background": "light"
     },
     "output_type": "display_data"
    }
   ],
   "source": [
    "x1=df['Income']\n",
    "x2=df['Age']\n",
    "plt.boxplot([x1,x2])"
   ]
  },
  {
   "cell_type": "code",
   "execution_count": 50,
   "metadata": {},
   "outputs": [
    {
     "data": {
      "text/plain": [
       "Index(['Workclass', 'Education', 'Maritial-Status', 'Occupation',\n",
       "       'Relationship', 'Race', 'Sex', 'Native-Country', 'Income', 'Age',\n",
       "       'Education-Num', 'Capital-Gain', 'Capital-Loss', 'Hours-Per-Week'],\n",
       "      dtype='object')"
      ]
     },
     "execution_count": 50,
     "metadata": {},
     "output_type": "execute_result"
    }
   ],
   "source": [
    "columnNames = df.columns\n",
    "columnNames"
   ]
  },
  {
   "cell_type": "code",
   "execution_count": 51,
   "metadata": {},
   "outputs": [
    {
     "data": {
      "image/png": "[encoded data removed]",
      "text/plain": [
       "<Figure size 432x288 with 1 Axes>"
      ]
     },
     "metadata": {
      "needs_background": "light"
     },
     "output_type": "display_data"
    },
    {
     "data": {
      "image/png": "[encoded data removed]",
      "text/plain": [
       "<Figure size 432x288 with 1 Axes>"
      ]
     },
     "metadata": {
      "needs_background": "light"
     },
     "output_type": "display_data"
    },
    {
     "data": {
      "image/png": "[encoded data removed]",
      "text/plain": [
       "<Figure size 432x288 with 1 Axes>"
      ]
     },
     "metadata": {
      "needs_background": "light"
     },
     "output_type": "display_data"
    },
    {
     "data": {
      "image/png": "[encoded data removed]",
      "text/plain": [
       "<Figure size 432x288 with 1 Axes>"
      ]
     },
     "metadata": {
      "needs_background": "light"
     },
     "output_type": "display_data"
    },
    {
     "data": {
      "image/png": "[encoded data removed]",
      "text/plain": [
       "<Figure size 432x288 with 1 Axes>"
      ]
     },
     "metadata": {
      "needs_background": "light"
     },
     "output_type": "display_data"
    },
    {
     "data": {
      "image/png": "[encoded data removed]",
      "text/plain": [
       "<Figure size 432x288 with 1 Axes>"
      ]
     },
     "metadata": {
      "needs_background": "light"
     },
     "output_type": "display_data"
    },
    {
     "data": {
      "image/png": "[encoded data removed]",
      "text/plain": [
       "<Figure size 432x288 with 1 Axes>"
      ]
     },
     "metadata": {
      "needs_background": "light"
     },
     "output_type": "display_data"
    },
    {
     "data": {
      "image/png": "[encoded data removed]",
      "text/plain": [
       "<Figure size 432x288 with 1 Axes>"
      ]
     },
     "metadata": {
      "needs_background": "light"
     },
     "output_type": "display_data"
    },
    {
     "data": {
      "image/png": "[encoded data removed]",
      "text/plain": [
       "<Figure size 432x288 with 1 Axes>"
      ]
     },
     "metadata": {
      "needs_background": "light"
     },
     "output_type": "display_data"
    },
    {
     "data": {
      "image/png": "[encoded data removed]",
      "text/plain": [
       "<Figure size 432x288 with 1 Axes>"
      ]
     },
     "metadata": {
      "needs_background": "light"
     },
     "output_type": "display_data"
    },
    {
     "data": {
      "image/png": "[encoded data removed]",
      "text/plain": [
       "<Figure size 432x288 with 1 Axes>"
      ]
     },
     "metadata": {
      "needs_background": "light"
     },
     "output_type": "display_data"
    },
    {
     "data": {
      "image/png": "[encoded data removed]",
      "text/plain": [
       "<Figure size 432x288 with 1 Axes>"
      ]
     },
     "metadata": {
      "needs_background": "light"
     },
     "output_type": "display_data"
    },
    {
     "data": {
      "image/png": "[encoded data removed]",
      "text/plain": [
       "<Figure size 432x288 with 1 Axes>"
      ]
     },
     "metadata": {
      "needs_background": "light"
     },
     "output_type": "display_data"
    },
    {
     "data": {
      "image/png": "[encoded data removed]",
      "text/plain": [
       "<Figure size 432x288 with 1 Axes>"
      ]
     },
     "metadata": {
      "needs_background": "light"
     },
     "output_type": "display_data"
    }
   ],
   "source": [
    "for column in df:\n",
    "    plt.figure()\n",
    "    df.boxplot([column])"
   ]
  },
  {
   "cell_type": "code",
   "execution_count": 52,
   "metadata": {},
   "outputs": [
    {
     "data": {
      "image/png": "[encoded data removed]",
      "text/plain": [
       "<Figure size 432x288 with 1 Axes>"
      ]
     },
     "metadata": {
      "needs_background": "light"
     },
     "output_type": "display_data"
    },
    {
     "data": {
      "image/png": "[encoded data removed]",
      "text/plain": [
       "<Figure size 432x288 with 1 Axes>"
      ]
     },
     "metadata": {
      "needs_background": "light"
     },
     "output_type": "display_data"
    },
    {
     "data": {
      "image/png": "[encoded data removed]",
      "text/plain": [
       "<Figure size 432x288 with 1 Axes>"
      ]
     },
     "metadata": {
      "needs_background": "light"
     },
     "output_type": "display_data"
    },
    {
     "data": {
      "image/png": "[encoded data removed]",
      "text/plain": [
       "<Figure size 432x288 with 1 Axes>"
      ]
     },
     "metadata": {
      "needs_background": "light"
     },
     "output_type": "display_data"
    },
    {
     "data": {
      "image/png": "[encoded data removed]",
      "text/plain": [
       "<Figure size 432x288 with 1 Axes>"
      ]
     },
     "metadata": {
      "needs_background": "light"
     },
     "output_type": "display_data"
    },
    {
     "data": {
      "image/png": "[encoded data removed]",
      "text/plain": [
       "<Figure size 432x288 with 1 Axes>"
      ]
     },
     "metadata": {
      "needs_background": "light"
     },
     "output_type": "display_data"
    },
    {
     "data": {
      "image/png": "[encoded data removed]",
      "text/plain": [
       "<Figure size 432x288 with 1 Axes>"
      ]
     },
     "metadata": {
      "needs_background": "light"
     },
     "output_type": "display_data"
    },
    {
     "data": {
      "image/png": "[encoded data removed]",
      "text/plain": [
       "<Figure size 432x288 with 1 Axes>"
      ]
     },
     "metadata": {
      "needs_background": "light"
     },
     "output_type": "display_data"
    },
    {
     "data": {
      "image/png": "[encoded data removed]",
      "text/plain": [
       "<Figure size 432x288 with 1 Axes>"
      ]
     },
     "metadata": {
      "needs_background": "light"
     },
     "output_type": "display_data"
    },
    {
     "data": {
      "image/png": "[encoded data removed]",
      "text/plain": [
       "<Figure size 432x288 with 1 Axes>"
      ]
     },
     "metadata": {
      "needs_background": "light"
     },
     "output_type": "display_data"
    },
    {
     "data": {
      "image/png": "[encoded data removed]",
      "text/plain": [
       "<Figure size 432x288 with 1 Axes>"
      ]
     },
     "metadata": {
      "needs_background": "light"
     },
     "output_type": "display_data"
    },
    {
     "data": {
      "image/png": "[encoded data removed]",
      "text/plain": [
       "<Figure size 432x288 with 1 Axes>"
      ]
     },
     "metadata": {
      "needs_background": "light"
     },
     "output_type": "display_data"
    },
    {
     "data": {
      "image/png": "[encoded data removed]",
      "text/plain": [
       "<Figure size 432x288 with 1 Axes>"
      ]
     },
     "metadata": {
      "needs_background": "light"
     },
     "output_type": "display_data"
    },
    {
     "data": {
      "image/png": "[encoded data removed]",
      "text/plain": [
       "<Figure size 432x288 with 1 Axes>"
      ]
     },
     "metadata": {
      "needs_background": "light"
     },
     "output_type": "display_data"
    }
   ],
   "source": [
    "#boxplots that doesn't show outliers, just the majority of the data\n",
    "for column in df:\n",
    "    plt.figure()\n",
    "    df.boxplot([column], showfliers=False)"
   ]
  },
  {
   "cell_type": "markdown",
   "metadata": {},
   "source": [
    "## <b> Multiple Regression </b>"
   ]
  },
  {
   "cell_type": "code",
   "execution_count": 53,
   "metadata": {},
   "outputs": [],
   "source": [
    "from sklearn.linear_model import LinearRegression\n",
    "from sklearn.metrics import mean_squared_error, r2_score, mean_absolute_error"
   ]
  },
  {
   "cell_type": "code",
   "execution_count": 54,
   "metadata": {},
   "outputs": [
    {
     "data": {
      "text/html": [
       "<div>\n",
       "<style scoped>\n",
       "    .dataframe tbody tr th:only-of-type {\n",
       "        vertical-align: middle;\n",
       "    }\n",
       "\n",
       "    .dataframe tbody tr th {\n",
       "        vertical-align: top;\n",
       "    }\n",
       "\n",
       "    .dataframe thead th {\n",
       "        text-align: right;\n",
       "    }\n",
       "</style>\n",
       "<table border=\"1\" class=\"dataframe\">\n",
       "  <thead>\n",
       "    <tr style=\"text-align: right;\">\n",
       "      <th></th>\n",
       "      <th>Workclass</th>\n",
       "      <th>Education</th>\n",
       "      <th>Maritial-Status</th>\n",
       "      <th>Occupation</th>\n",
       "      <th>Relationship</th>\n",
       "      <th>Race</th>\n",
       "      <th>Sex</th>\n",
       "      <th>Native-Country</th>\n",
       "      <th>Income</th>\n",
       "      <th>Age</th>\n",
       "      <th>Education-Num</th>\n",
       "      <th>Capital-Gain</th>\n",
       "      <th>Capital-Loss</th>\n",
       "      <th>Hours-Per-Week</th>\n",
       "    </tr>\n",
       "  </thead>\n",
       "  <tbody>\n",
       "    <tr>\n",
       "      <td>Workclass</td>\n",
       "      <td>1.000000</td>\n",
       "      <td>0.023537</td>\n",
       "      <td>-0.064798</td>\n",
       "      <td>0.255004</td>\n",
       "      <td>-0.090449</td>\n",
       "      <td>0.049720</td>\n",
       "      <td>0.095942</td>\n",
       "      <td>-0.007710</td>\n",
       "      <td>0.051645</td>\n",
       "      <td>0.003786</td>\n",
       "      <td>0.052015</td>\n",
       "      <td>0.033828</td>\n",
       "      <td>0.012231</td>\n",
       "      <td>0.138974</td>\n",
       "    </tr>\n",
       "    <tr>\n",
       "      <td>Education</td>\n",
       "      <td>0.023537</td>\n",
       "      <td>1.000000</td>\n",
       "      <td>-0.038398</td>\n",
       "      <td>-0.021274</td>\n",
       "      <td>-0.010879</td>\n",
       "      <td>0.014135</td>\n",
       "      <td>-0.027349</td>\n",
       "      <td>0.064291</td>\n",
       "      <td>0.079311</td>\n",
       "      <td>-0.010508</td>\n",
       "      <td>0.359172</td>\n",
       "      <td>0.030047</td>\n",
       "      <td>0.016744</td>\n",
       "      <td>0.055510</td>\n",
       "    </tr>\n",
       "    <tr>\n",
       "      <td>Maritial-Status</td>\n",
       "      <td>-0.064798</td>\n",
       "      <td>-0.038398</td>\n",
       "      <td>1.000000</td>\n",
       "      <td>-0.009617</td>\n",
       "      <td>0.185461</td>\n",
       "      <td>-0.068025</td>\n",
       "      <td>-0.129337</td>\n",
       "      <td>-0.023827</td>\n",
       "      <td>-0.199295</td>\n",
       "      <td>-0.266292</td>\n",
       "      <td>-0.069338</td>\n",
       "      <td>-0.043398</td>\n",
       "      <td>-0.034182</td>\n",
       "      <td>-0.190521</td>\n",
       "    </tr>\n",
       "    <tr>\n",
       "      <td>Occupation</td>\n",
       "      <td>0.255004</td>\n",
       "      <td>-0.021274</td>\n",
       "      <td>-0.009617</td>\n",
       "      <td>1.000000</td>\n",
       "      <td>-0.075620</td>\n",
       "      <td>0.006779</td>\n",
       "      <td>0.080328</td>\n",
       "      <td>-0.012532</td>\n",
       "      <td>0.075448</td>\n",
       "      <td>-0.020946</td>\n",
       "      <td>0.109748</td>\n",
       "      <td>0.025511</td>\n",
       "      <td>0.017979</td>\n",
       "      <td>0.080384</td>\n",
       "    </tr>\n",
       "    <tr>\n",
       "      <td>Relationship</td>\n",
       "      <td>-0.090449</td>\n",
       "      <td>-0.010879</td>\n",
       "      <td>0.185461</td>\n",
       "      <td>-0.075620</td>\n",
       "      <td>1.000000</td>\n",
       "      <td>-0.116052</td>\n",
       "      <td>-0.582453</td>\n",
       "      <td>-0.005504</td>\n",
       "      <td>-0.250924</td>\n",
       "      <td>-0.263698</td>\n",
       "      <td>-0.094145</td>\n",
       "      <td>-0.057918</td>\n",
       "      <td>-0.061064</td>\n",
       "      <td>-0.248975</td>\n",
       "    </tr>\n",
       "    <tr>\n",
       "      <td>Race</td>\n",
       "      <td>0.049720</td>\n",
       "      <td>0.014135</td>\n",
       "      <td>-0.068025</td>\n",
       "      <td>0.006779</td>\n",
       "      <td>-0.116052</td>\n",
       "      <td>1.000000</td>\n",
       "      <td>0.087197</td>\n",
       "      <td>0.137849</td>\n",
       "      <td>0.071853</td>\n",
       "      <td>0.028718</td>\n",
       "      <td>0.031825</td>\n",
       "      <td>0.011143</td>\n",
       "      <td>0.018902</td>\n",
       "      <td>0.041910</td>\n",
       "    </tr>\n",
       "    <tr>\n",
       "      <td>Sex</td>\n",
       "      <td>0.095942</td>\n",
       "      <td>-0.027349</td>\n",
       "      <td>-0.129337</td>\n",
       "      <td>0.080328</td>\n",
       "      <td>-0.582453</td>\n",
       "      <td>0.087197</td>\n",
       "      <td>1.000000</td>\n",
       "      <td>-0.008125</td>\n",
       "      <td>0.215995</td>\n",
       "      <td>0.088832</td>\n",
       "      <td>0.012256</td>\n",
       "      <td>0.048477</td>\n",
       "      <td>0.045572</td>\n",
       "      <td>0.229312</td>\n",
       "    </tr>\n",
       "    <tr>\n",
       "      <td>Native-Country</td>\n",
       "      <td>-0.007710</td>\n",
       "      <td>0.064291</td>\n",
       "      <td>-0.023827</td>\n",
       "      <td>-0.012532</td>\n",
       "      <td>-0.005504</td>\n",
       "      <td>0.137849</td>\n",
       "      <td>-0.008125</td>\n",
       "      <td>1.000000</td>\n",
       "      <td>0.015845</td>\n",
       "      <td>-0.001151</td>\n",
       "      <td>0.050831</td>\n",
       "      <td>-0.001984</td>\n",
       "      <td>0.000420</td>\n",
       "      <td>-0.002671</td>\n",
       "    </tr>\n",
       "    <tr>\n",
       "      <td>Income</td>\n",
       "      <td>0.051645</td>\n",
       "      <td>0.079311</td>\n",
       "      <td>-0.199295</td>\n",
       "      <td>0.075448</td>\n",
       "      <td>-0.250924</td>\n",
       "      <td>0.071853</td>\n",
       "      <td>0.215995</td>\n",
       "      <td>0.015845</td>\n",
       "      <td>1.000000</td>\n",
       "      <td>0.234039</td>\n",
       "      <td>0.335182</td>\n",
       "      <td>0.223333</td>\n",
       "      <td>0.150523</td>\n",
       "      <td>0.229690</td>\n",
       "    </tr>\n",
       "    <tr>\n",
       "      <td>Age</td>\n",
       "      <td>0.003786</td>\n",
       "      <td>-0.010508</td>\n",
       "      <td>-0.266292</td>\n",
       "      <td>-0.020946</td>\n",
       "      <td>-0.263698</td>\n",
       "      <td>0.028718</td>\n",
       "      <td>0.088832</td>\n",
       "      <td>-0.001151</td>\n",
       "      <td>0.234039</td>\n",
       "      <td>1.000000</td>\n",
       "      <td>0.036527</td>\n",
       "      <td>0.077674</td>\n",
       "      <td>0.057775</td>\n",
       "      <td>0.068756</td>\n",
       "    </tr>\n",
       "    <tr>\n",
       "      <td>Education-Num</td>\n",
       "      <td>0.052015</td>\n",
       "      <td>0.359172</td>\n",
       "      <td>-0.069338</td>\n",
       "      <td>0.109748</td>\n",
       "      <td>-0.094145</td>\n",
       "      <td>0.031825</td>\n",
       "      <td>0.012256</td>\n",
       "      <td>0.050831</td>\n",
       "      <td>0.335182</td>\n",
       "      <td>0.036527</td>\n",
       "      <td>1.000000</td>\n",
       "      <td>0.122627</td>\n",
       "      <td>0.079932</td>\n",
       "      <td>0.148127</td>\n",
       "    </tr>\n",
       "    <tr>\n",
       "      <td>Capital-Gain</td>\n",
       "      <td>0.033828</td>\n",
       "      <td>0.030047</td>\n",
       "      <td>-0.043398</td>\n",
       "      <td>0.025511</td>\n",
       "      <td>-0.057918</td>\n",
       "      <td>0.011143</td>\n",
       "      <td>0.048477</td>\n",
       "      <td>-0.001984</td>\n",
       "      <td>0.223333</td>\n",
       "      <td>0.077674</td>\n",
       "      <td>0.122627</td>\n",
       "      <td>1.000000</td>\n",
       "      <td>-0.031614</td>\n",
       "      <td>0.078409</td>\n",
       "    </tr>\n",
       "    <tr>\n",
       "      <td>Capital-Loss</td>\n",
       "      <td>0.012231</td>\n",
       "      <td>0.016744</td>\n",
       "      <td>-0.034182</td>\n",
       "      <td>0.017979</td>\n",
       "      <td>-0.061064</td>\n",
       "      <td>0.018902</td>\n",
       "      <td>0.045572</td>\n",
       "      <td>0.000420</td>\n",
       "      <td>0.150523</td>\n",
       "      <td>0.057775</td>\n",
       "      <td>0.079932</td>\n",
       "      <td>-0.031614</td>\n",
       "      <td>1.000000</td>\n",
       "      <td>0.054256</td>\n",
       "    </tr>\n",
       "    <tr>\n",
       "      <td>Hours-Per-Week</td>\n",
       "      <td>0.138974</td>\n",
       "      <td>0.055510</td>\n",
       "      <td>-0.190521</td>\n",
       "      <td>0.080384</td>\n",
       "      <td>-0.248975</td>\n",
       "      <td>0.041910</td>\n",
       "      <td>0.229312</td>\n",
       "      <td>-0.002671</td>\n",
       "      <td>0.229690</td>\n",
       "      <td>0.068756</td>\n",
       "      <td>0.148127</td>\n",
       "      <td>0.078409</td>\n",
       "      <td>0.054256</td>\n",
       "      <td>1.000000</td>\n",
       "    </tr>\n",
       "  </tbody>\n",
       "</table>\n",
       "</div>"
      ],
      "text/plain": [
       "                 Workclass  Education  Maritial-Status  Occupation  \\\n",
       "Workclass         1.000000   0.023537        -0.064798    0.255004   \n",
       "Education         0.023537   1.000000        -0.038398   -0.021274   \n",
       "Maritial-Status  -0.064798  -0.038398         1.000000   -0.009617   \n",
       "Occupation        0.255004  -0.021274        -0.009617    1.000000   \n",
       "Relationship     -0.090449  -0.010879         0.185461   -0.075620   \n",
       "Race              0.049720   0.014135        -0.068025    0.006779   \n",
       "Sex               0.095942  -0.027349        -0.129337    0.080328   \n",
       "Native-Country   -0.007710   0.064291        -0.023827   -0.012532   \n",
       "Income            0.051645   0.079311        -0.199295    0.075448   \n",
       "Age               0.003786  -0.010508        -0.266292   -0.020946   \n",
       "Education-Num     0.052015   0.359172        -0.069338    0.109748   \n",
       "Capital-Gain      0.033828   0.030047        -0.043398    0.025511   \n",
       "Capital-Loss      0.012231   0.016744        -0.034182    0.017979   \n",
       "Hours-Per-Week    0.138974   0.055510        -0.190521    0.080384   \n",
       "\n",
       "                 Relationship      Race       Sex  Native-Country    Income  \\\n",
       "Workclass           -0.090449  0.049720  0.095942       -0.007710  0.051645   \n",
       "Education           -0.010879  0.014135 -0.027349        0.064291  0.079311   \n",
       "Maritial-Status      0.185461 -0.068025 -0.129337       -0.023827 -0.199295   \n",
       "Occupation          -0.075620  0.006779  0.080328       -0.012532  0.075448   \n",
       "Relationship         1.000000 -0.116052 -0.582453       -0.005504 -0.250924   \n",
       "Race                -0.116052  1.000000  0.087197        0.137849  0.071853   \n",
       "Sex                 -0.582453  0.087197  1.000000       -0.008125  0.215995   \n",
       "Native-Country      -0.005504  0.137849 -0.008125        1.000000  0.015845   \n",
       "Income              -0.250924  0.071853  0.215995        0.015845  1.000000   \n",
       "Age                 -0.263698  0.028718  0.088832       -0.001151  0.234039   \n",
       "Education-Num       -0.094145  0.031825  0.012256        0.050831  0.335182   \n",
       "Capital-Gain        -0.057918  0.011143  0.048477       -0.001984  0.223333   \n",
       "Capital-Loss        -0.061064  0.018902  0.045572        0.000420  0.150523   \n",
       "Hours-Per-Week      -0.248975  0.041910  0.229312       -0.002671  0.229690   \n",
       "\n",
       "                      Age  Education-Num  Capital-Gain  Capital-Loss  \\\n",
       "Workclass        0.003786       0.052015      0.033828      0.012231   \n",
       "Education       -0.010508       0.359172      0.030047      0.016744   \n",
       "Maritial-Status -0.266292      -0.069338     -0.043398     -0.034182   \n",
       "Occupation      -0.020946       0.109748      0.025511      0.017979   \n",
       "Relationship    -0.263698      -0.094145     -0.057918     -0.061064   \n",
       "Race             0.028718       0.031825      0.011143      0.018902   \n",
       "Sex              0.088832       0.012256      0.048477      0.045572   \n",
       "Native-Country  -0.001151       0.050831     -0.001984      0.000420   \n",
       "Income           0.234039       0.335182      0.223333      0.150523   \n",
       "Age              1.000000       0.036527      0.077674      0.057775   \n",
       "Education-Num    0.036527       1.000000      0.122627      0.079932   \n",
       "Capital-Gain     0.077674       0.122627      1.000000     -0.031614   \n",
       "Capital-Loss     0.057775       0.079932     -0.031614      1.000000   \n",
       "Hours-Per-Week   0.068756       0.148127      0.078409      0.054256   \n",
       "\n",
       "                 Hours-Per-Week  \n",
       "Workclass              0.138974  \n",
       "Education              0.055510  \n",
       "Maritial-Status       -0.190521  \n",
       "Occupation             0.080384  \n",
       "Relationship          -0.248975  \n",
       "Race                   0.041910  \n",
       "Sex                    0.229312  \n",
       "Native-Country        -0.002671  \n",
       "Income                 0.229690  \n",
       "Age                    0.068756  \n",
       "Education-Num          0.148127  \n",
       "Capital-Gain           0.078409  \n",
       "Capital-Loss           0.054256  \n",
       "Hours-Per-Week         1.000000  "
      ]
     },
     "metadata": {},
     "output_type": "display_data"
    },
    {
     "data": {
      "text/plain": [
       "<matplotlib.axes._subplots.AxesSubplot at 0x20f4bcab988>"
      ]
     },
     "execution_count": 54,
     "metadata": {},
     "output_type": "execute_result"
    },
    {
     "data": {
      "image/png": "[encoded data removed]",
      "text/plain": [
       "<Figure size 432x288 with 2 Axes>"
      ]
     },
     "metadata": {
      "needs_background": "light"
     },
     "output_type": "display_data"
    }
   ],
   "source": [
    "# calculate the correlation matrix\n",
    "corr = df.corr()\n",
    "\n",
    "# display the correlation matrix\n",
    "display(corr)\n",
    "\n",
    "# plot the correlation heatmap\n",
    "sns.heatmap(corr, xticklabels=corr.columns, yticklabels=corr.columns, cmap='RdBu')"
   ]
  },
  {
   "cell_type": "code",
   "execution_count": 55,
   "metadata": {
    "scrolled": true
   },
   "outputs": [
    {
     "data": {
      "text/html": [
       "<div>\n",
       "<style scoped>\n",
       "    .dataframe tbody tr th:only-of-type {\n",
       "        vertical-align: middle;\n",
       "    }\n",
       "\n",
       "    .dataframe tbody tr th {\n",
       "        vertical-align: top;\n",
       "    }\n",
       "\n",
       "    .dataframe thead th {\n",
       "        text-align: right;\n",
       "    }\n",
       "</style>\n",
       "<table border=\"1\" class=\"dataframe\">\n",
       "  <thead>\n",
       "    <tr style=\"text-align: right;\">\n",
       "      <th></th>\n",
       "      <th>Workclass</th>\n",
       "      <th>Education</th>\n",
       "      <th>Maritial-Status</th>\n",
       "      <th>Occupation</th>\n",
       "      <th>Relationship</th>\n",
       "      <th>Race</th>\n",
       "      <th>Sex</th>\n",
       "      <th>Native-Country</th>\n",
       "      <th>Income</th>\n",
       "      <th>Age</th>\n",
       "      <th>Education-Num</th>\n",
       "      <th>Capital-Gain</th>\n",
       "      <th>Capital-Loss</th>\n",
       "      <th>Hours-Per-Week</th>\n",
       "    </tr>\n",
       "  </thead>\n",
       "  <tbody>\n",
       "    <tr>\n",
       "      <td>count</td>\n",
       "      <td>32560.000000</td>\n",
       "      <td>32560.000000</td>\n",
       "      <td>32560.000000</td>\n",
       "      <td>32560.000000</td>\n",
       "      <td>32560.000000</td>\n",
       "      <td>32560.000000</td>\n",
       "      <td>32560.000000</td>\n",
       "      <td>32560.000000</td>\n",
       "      <td>32560.000000</td>\n",
       "      <td>32560.000000</td>\n",
       "      <td>32560.000000</td>\n",
       "      <td>32560.000000</td>\n",
       "      <td>32560.000000</td>\n",
       "      <td>32560.000000</td>\n",
       "    </tr>\n",
       "    <tr>\n",
       "      <td>mean</td>\n",
       "      <td>3.868796</td>\n",
       "      <td>10.298249</td>\n",
       "      <td>2.611794</td>\n",
       "      <td>6.572912</td>\n",
       "      <td>1.446376</td>\n",
       "      <td>3.665848</td>\n",
       "      <td>0.669195</td>\n",
       "      <td>36.718796</td>\n",
       "      <td>0.240817</td>\n",
       "      <td>38.581634</td>\n",
       "      <td>10.080590</td>\n",
       "      <td>1077.615172</td>\n",
       "      <td>87.306511</td>\n",
       "      <td>40.437469</td>\n",
       "    </tr>\n",
       "    <tr>\n",
       "      <td>std</td>\n",
       "      <td>1.455879</td>\n",
       "      <td>3.870317</td>\n",
       "      <td>1.506225</td>\n",
       "      <td>4.228809</td>\n",
       "      <td>1.606794</td>\n",
       "      <td>0.848817</td>\n",
       "      <td>0.470510</td>\n",
       "      <td>7.823892</td>\n",
       "      <td>0.427586</td>\n",
       "      <td>13.640642</td>\n",
       "      <td>2.572709</td>\n",
       "      <td>7385.402999</td>\n",
       "      <td>402.966116</td>\n",
       "      <td>12.347618</td>\n",
       "    </tr>\n",
       "    <tr>\n",
       "      <td>min</td>\n",
       "      <td>0.000000</td>\n",
       "      <td>0.000000</td>\n",
       "      <td>0.000000</td>\n",
       "      <td>0.000000</td>\n",
       "      <td>0.000000</td>\n",
       "      <td>0.000000</td>\n",
       "      <td>0.000000</td>\n",
       "      <td>0.000000</td>\n",
       "      <td>0.000000</td>\n",
       "      <td>17.000000</td>\n",
       "      <td>1.000000</td>\n",
       "      <td>0.000000</td>\n",
       "      <td>0.000000</td>\n",
       "      <td>1.000000</td>\n",
       "    </tr>\n",
       "    <tr>\n",
       "      <td>25%</td>\n",
       "      <td>4.000000</td>\n",
       "      <td>9.000000</td>\n",
       "      <td>2.000000</td>\n",
       "      <td>3.000000</td>\n",
       "      <td>0.000000</td>\n",
       "      <td>4.000000</td>\n",
       "      <td>0.000000</td>\n",
       "      <td>39.000000</td>\n",
       "      <td>0.000000</td>\n",
       "      <td>28.000000</td>\n",
       "      <td>9.000000</td>\n",
       "      <td>0.000000</td>\n",
       "      <td>0.000000</td>\n",
       "      <td>40.000000</td>\n",
       "    </tr>\n",
       "    <tr>\n",
       "      <td>50%</td>\n",
       "      <td>4.000000</td>\n",
       "      <td>11.000000</td>\n",
       "      <td>2.000000</td>\n",
       "      <td>7.000000</td>\n",
       "      <td>1.000000</td>\n",
       "      <td>4.000000</td>\n",
       "      <td>1.000000</td>\n",
       "      <td>39.000000</td>\n",
       "      <td>0.000000</td>\n",
       "      <td>37.000000</td>\n",
       "      <td>10.000000</td>\n",
       "      <td>0.000000</td>\n",
       "      <td>0.000000</td>\n",
       "      <td>40.000000</td>\n",
       "    </tr>\n",
       "    <tr>\n",
       "      <td>75%</td>\n",
       "      <td>4.000000</td>\n",
       "      <td>12.000000</td>\n",
       "      <td>4.000000</td>\n",
       "      <td>10.000000</td>\n",
       "      <td>3.000000</td>\n",
       "      <td>4.000000</td>\n",
       "      <td>1.000000</td>\n",
       "      <td>39.000000</td>\n",
       "      <td>0.000000</td>\n",
       "      <td>48.000000</td>\n",
       "      <td>12.000000</td>\n",
       "      <td>0.000000</td>\n",
       "      <td>0.000000</td>\n",
       "      <td>45.000000</td>\n",
       "    </tr>\n",
       "    <tr>\n",
       "      <td>max</td>\n",
       "      <td>8.000000</td>\n",
       "      <td>15.000000</td>\n",
       "      <td>6.000000</td>\n",
       "      <td>14.000000</td>\n",
       "      <td>5.000000</td>\n",
       "      <td>4.000000</td>\n",
       "      <td>1.000000</td>\n",
       "      <td>41.000000</td>\n",
       "      <td>1.000000</td>\n",
       "      <td>90.000000</td>\n",
       "      <td>16.000000</td>\n",
       "      <td>99999.000000</td>\n",
       "      <td>4356.000000</td>\n",
       "      <td>99.000000</td>\n",
       "    </tr>\n",
       "  </tbody>\n",
       "</table>\n",
       "</div>"
      ],
      "text/plain": [
       "          Workclass     Education  Maritial-Status    Occupation  \\\n",
       "count  32560.000000  32560.000000     32560.000000  32560.000000   \n",
       "mean       3.868796     10.298249         2.611794      6.572912   \n",
       "std        1.455879      3.870317         1.506225      4.228809   \n",
       "min        0.000000      0.000000         0.000000      0.000000   \n",
       "25%        4.000000      9.000000         2.000000      3.000000   \n",
       "50%        4.000000     11.000000         2.000000      7.000000   \n",
       "75%        4.000000     12.000000         4.000000     10.000000   \n",
       "max        8.000000     15.000000         6.000000     14.000000   \n",
       "\n",
       "       Relationship          Race           Sex  Native-Country        Income  \\\n",
       "count  32560.000000  32560.000000  32560.000000    32560.000000  32560.000000   \n",
       "mean       1.446376      3.665848      0.669195       36.718796      0.240817   \n",
       "std        1.606794      0.848817      0.470510        7.823892      0.427586   \n",
       "min        0.000000      0.000000      0.000000        0.000000      0.000000   \n",
       "25%        0.000000      4.000000      0.000000       39.000000      0.000000   \n",
       "50%        1.000000      4.000000      1.000000       39.000000      0.000000   \n",
       "75%        3.000000      4.000000      1.000000       39.000000      0.000000   \n",
       "max        5.000000      4.000000      1.000000       41.000000      1.000000   \n",
       "\n",
       "                Age  Education-Num  Capital-Gain  Capital-Loss  Hours-Per-Week  \n",
       "count  32560.000000   32560.000000  32560.000000  32560.000000    32560.000000  \n",
       "mean      38.581634      10.080590   1077.615172     87.306511       40.437469  \n",
       "std       13.640642       2.572709   7385.402999    402.966116       12.347618  \n",
       "min       17.000000       1.000000      0.000000      0.000000        1.000000  \n",
       "25%       28.000000       9.000000      0.000000      0.000000       40.000000  \n",
       "50%       37.000000      10.000000      0.000000      0.000000       40.000000  \n",
       "75%       48.000000      12.000000      0.000000      0.000000       45.000000  \n",
       "max       90.000000      16.000000  99999.000000   4356.000000       99.000000  "
      ]
     },
     "execution_count": 55,
     "metadata": {},
     "output_type": "execute_result"
    }
   ],
   "source": [
    "# get the summary\n",
    "df.describe()"
   ]
  },
  {
   "cell_type": "code",
   "execution_count": 56,
   "metadata": {},
   "outputs": [
    {
     "data": {
      "text/plain": [
       "LinearRegression(copy_X=True, fit_intercept=True, n_jobs=None, normalize=False)"
      ]
     },
     "execution_count": 56,
     "metadata": {},
     "output_type": "execute_result"
    }
   ],
   "source": [
    "#building testing and training sets\n",
    "from sklearn.model_selection import train_test_split\n",
    "\n",
    "X = df.drop('Income', axis = 1)\n",
    "Y = df[['Income']]\n",
    "X_train, X_test, y_train, y_test = train_test_split(X, Y, test_size=0.20, random_state=1)\n",
    "\n",
    "# create a Linear Regression model object\n",
    "regression_model = LinearRegression()\n",
    "\n",
    "# fit the model\n",
    "regression_model.fit(X_train, y_train)"
   ]
  },
  {
   "cell_type": "code",
   "execution_count": 57,
   "metadata": {},
   "outputs": [
    {
     "name": "stdout",
     "output_type": "stream",
     "text": [
      "The intercept for our model is -0.5802\n",
      "The Coefficient for Workclass is -0.0018\n",
      "The Coefficient for Education is -0.0038\n",
      "The Coefficient for Maritial-Status is -0.023\n",
      "The Coefficient for Occupation is 0.0016\n",
      "The Coefficient for Relationship is -0.017\n",
      "The Coefficient for Race is 0.014\n",
      "The Coefficient for Sex is 0.1\n",
      "The Coefficient for Native-Country is 6.4e-05\n",
      "The Coefficient for Age is 0.0046\n",
      "The Coefficient for Education-Num is 0.047\n",
      "The Coefficient for Capital-Gain is 9.3e-06\n",
      "The Coefficient for Capital-Loss is 0.00011\n",
      "The Coefficient for Hours-Per-Week is 0.0036\n"
     ]
    }
   ],
   "source": [
    "# let's grab the coefficient of our model and the intercept\n",
    "intercept = regression_model.intercept_[0]\n",
    "coefficent = regression_model.coef_[0][0]\n",
    "print(\"The intercept for our model is {:.4}\".format(intercept))\n",
    "\n",
    "# loop through the dictionary and print the data\n",
    "for coef in zip(X.columns, regression_model.coef_[0]):\n",
    "    print(\"The Coefficient for {} is {:.2}\".format(coef[0],coef[1]))"
   ]
  },
  {
   "cell_type": "code",
   "execution_count": 58,
   "metadata": {},
   "outputs": [
    {
     "data": {
      "text/plain": [
       "array([[0.31435994],\n",
       "       [0.24651172],\n",
       "       [0.12791392],\n",
       "       [0.2261972 ],\n",
       "       [0.29425088]])"
      ]
     },
     "execution_count": 58,
     "metadata": {},
     "output_type": "execute_result"
    }
   ],
   "source": [
    "# Get multiple predictions\n",
    "y_predict = regression_model.predict(X_test)\n",
    "\n",
    "# Show the first 5 predictions\n",
    "y_predict[:5]"
   ]
  },
  {
   "cell_type": "code",
   "execution_count": 59,
   "metadata": {},
   "outputs": [
    {
     "name": "stdout",
     "output_type": "stream",
     "text": [
      "MSE 0.133\n",
      "MAE 0.291\n",
      "RMSE 0.364\n"
     ]
    }
   ],
   "source": [
    "import math\n",
    "# calculate the mean squared error\n",
    "model_mse = mean_squared_error(y_test, y_predict)\n",
    "\n",
    "# calculate the mean absolute error\n",
    "model_mae = mean_absolute_error(y_test, y_predict)\n",
    "\n",
    "# calulcate the root mean squared error\n",
    "model_rmse =  math.sqrt(model_mse)\n",
    "\n",
    "# display the output\n",
    "print(\"MSE {:.3}\".format(model_mse))\n",
    "print(\"MAE {:.3}\".format(model_mae))\n",
    "print(\"RMSE {:.3}\".format(model_rmse))"
   ]
  },
  {
   "cell_type": "code",
   "execution_count": 60,
   "metadata": {},
   "outputs": [
    {
     "name": "stdout",
     "output_type": "stream",
     "text": [
      "R2: 0.26\n"
     ]
    }
   ],
   "source": [
    "model_r2 = r2_score(y_test, y_predict)\n",
    "print(\"R2: {:.2}\".format(model_r2))"
   ]
  },
  {
   "cell_type": "code",
   "execution_count": 61,
   "metadata": {},
   "outputs": [],
   "source": [
    "import statsmodels.api as sm"
   ]
  },
  {
   "cell_type": "code",
   "execution_count": 62,
   "metadata": {},
   "outputs": [
    {
     "name": "stderr",
     "output_type": "stream",
     "text": [
      "C:\\Users\\victo\\Anaconda3\\lib\\site-packages\\numpy\\core\\fromnumeric.py:2389: FutureWarning: Method .ptp is deprecated and will be removed in a future version. Use numpy.ptp instead.\n",
      "  return ptp(axis=axis, out=out, **kwargs)\n"
     ]
    }
   ],
   "source": [
    "X = sm.add_constant(X)"
   ]
  },
  {
   "cell_type": "code",
   "execution_count": 63,
   "metadata": {},
   "outputs": [
    {
     "name": "stdout",
     "output_type": "stream",
     "text": [
      "                            OLS Regression Results                            \n",
      "==============================================================================\n",
      "Dep. Variable:                 Income   R-squared:                       0.262\n",
      "Model:                            OLS   Adj. R-squared:                  0.261\n",
      "Method:                 Least Squares   F-statistic:                     887.8\n",
      "Date:                Tue, 17 Nov 2020   Prob (F-statistic):               0.00\n",
      "Time:                        10:47:42   Log-Likelihood:                -13596.\n",
      "No. Observations:               32560   AIC:                         2.722e+04\n",
      "Df Residuals:                   32546   BIC:                         2.734e+04\n",
      "Df Model:                          13                                         \n",
      "Covariance Type:            nonrobust                                         \n",
      "===================================================================================\n",
      "                      coef    std err          t      P>|t|      [0.025      0.975]\n",
      "-----------------------------------------------------------------------------------\n",
      "const              -0.5777      0.020    -28.665      0.000      -0.617      -0.538\n",
      "Workclass          -0.0036      0.001     -2.489      0.013      -0.007      -0.001\n",
      "Education          -0.0037      0.001     -6.522      0.000      -0.005      -0.003\n",
      "Maritial-Status    -0.0238      0.001    -16.613      0.000      -0.027      -0.021\n",
      "Occupation          0.0021      0.001      4.238      0.000       0.001       0.003\n",
      "Relationship       -0.0153      0.002     -9.311      0.000      -0.019      -0.012\n",
      "Race                0.0147      0.002      5.998      0.000       0.010       0.019\n",
      "Sex                 0.1041      0.005     19.280      0.000       0.094       0.115\n",
      "Native-Country   -4.93e-05      0.000     -0.187      0.852      -0.001       0.000\n",
      "Age                 0.0047      0.000     29.226      0.000       0.004       0.005\n",
      "Education-Num       0.0470      0.001     53.864      0.000       0.045       0.049\n",
      "Capital-Gain     9.282e-06    2.8e-07     33.199      0.000    8.73e-06    9.83e-06\n",
      "Capital-Loss        0.0001   5.09e-06     22.278      0.000       0.000       0.000\n",
      "Hours-Per-Week      0.0036      0.000     20.295      0.000       0.003       0.004\n",
      "==============================================================================\n",
      "Omnibus:                     2972.960   Durbin-Watson:                   2.001\n",
      "Prob(Omnibus):                  0.000   Jarque-Bera (JB):             3720.818\n",
      "Skew:                           0.814   Prob(JB):                         0.00\n",
      "Kurtosis:                       2.697   Cond. No.                     7.42e+04\n",
      "==============================================================================\n",
      "\n",
      "Warnings:\n",
      "[1] Standard Errors assume that the covariance matrix of the errors is correctly specified.\n",
      "[2] The condition number is large, 7.42e+04. This might indicate that there are\n",
      "strong multicollinearity or other numerical problems.\n"
     ]
    }
   ],
   "source": [
    "model = sm.OLS(Y, X)\n",
    "results = model.fit()\n",
    "print(results.summary())"
   ]
  },
  {
   "cell_type": "markdown",
   "metadata": {},
   "source": [
    "## <b> Logistic regression </b>"
   ]
  },
  {
   "cell_type": "code",
   "execution_count": 64,
   "metadata": {},
   "outputs": [],
   "source": [
    "from sklearn.linear_model import LogisticRegression "
   ]
  },
  {
   "cell_type": "code",
   "execution_count": 65,
   "metadata": {},
   "outputs": [],
   "source": [
    "logisticRegr = LogisticRegression()"
   ]
  },
  {
   "cell_type": "code",
   "execution_count": 66,
   "metadata": {},
   "outputs": [
    {
     "name": "stderr",
     "output_type": "stream",
     "text": [
      "C:\\Users\\victo\\Anaconda3\\lib\\site-packages\\sklearn\\linear_model\\logistic.py:432: FutureWarning: Default solver will be changed to 'lbfgs' in 0.22. Specify a solver to silence this warning.\n",
      "  FutureWarning)\n",
      "C:\\Users\\victo\\Anaconda3\\lib\\site-packages\\sklearn\\utils\\validation.py:724: DataConversionWarning: A column-vector y was passed when a 1d array was expected. Please change the shape of y to (n_samples, ), for example using ravel().\n",
      "  y = column_or_1d(y, warn=True)\n"
     ]
    },
    {
     "data": {
      "text/plain": [
       "LogisticRegression(C=1.0, class_weight=None, dual=False, fit_intercept=True,\n",
       "                   intercept_scaling=1, l1_ratio=None, max_iter=100,\n",
       "                   multi_class='warn', n_jobs=None, penalty='l2',\n",
       "                   random_state=None, solver='warn', tol=0.0001, verbose=0,\n",
       "                   warm_start=False)"
      ]
     },
     "execution_count": 66,
     "metadata": {},
     "output_type": "execute_result"
    }
   ],
   "source": [
    "logisticRegr.fit(X_train, y_train)"
   ]
  },
  {
   "cell_type": "code",
   "execution_count": 67,
   "metadata": {},
   "outputs": [
    {
     "data": {
      "text/plain": [
       "array([0, 0, 0, 0, 0, 0, 1, 0, 0, 0])"
      ]
     },
     "execution_count": 67,
     "metadata": {},
     "output_type": "execute_result"
    }
   ],
   "source": [
    "# Make predictions on entire test data\n",
    "predictions = logisticRegr.predict(X_test[0:10])\n",
    "predictions"
   ]
  },
  {
   "cell_type": "code",
   "execution_count": 68,
   "metadata": {},
   "outputs": [
    {
     "name": "stdout",
     "output_type": "stream",
     "text": [
      "0.8312346437346437\n"
     ]
    }
   ],
   "source": [
    "# Use score method to get accuracy of model\n",
    "score = logisticRegr.score(X_test, y_test)\n",
    "print(score)"
   ]
  },
  {
   "cell_type": "code",
   "execution_count": 70,
   "metadata": {},
   "outputs": [],
   "source": [
    "from sklearn import metrics"
   ]
  },
  {
   "cell_type": "code",
   "execution_count": 71,
   "metadata": {},
   "outputs": [],
   "source": [
    "# Make predictions on test data\n",
    "predictions = logisticRegr.predict(X_test)"
   ]
  },
  {
   "cell_type": "code",
   "execution_count": 72,
   "metadata": {},
   "outputs": [],
   "source": [
    "cm = metrics.confusion_matrix(y_test, predictions)\n",
    "#cm_normalized = cm.astype('float') / cm.sum(axis=1)[:, np.newaxis]"
   ]
  },
  {
   "cell_type": "code",
   "execution_count": 80,
   "metadata": {},
   "outputs": [],
   "source": [
    "columns_data = data[['Age', 'Workclass', 'Education', 'Education-Num', 'Maritial-Status', 'Occupation', 'Relationship', 'Race', 'Sex', 'Capital-Gain', 'Capital-Loss', 'Hours-Per-Week', 'Native-Country', 'Income']]"
   ]
  },
  {
   "cell_type": "code",
   "execution_count": 89,
   "metadata": {},
   "outputs": [
    {
     "data": {
      "image/png": "[encoded data removed]",
      "text/plain": [
       "<Figure size 648x648 with 2 Axes>"
      ]
     },
     "metadata": {
      "needs_background": "light"
     },
     "output_type": "display_data"
    }
   ],
   "source": [
    "plt.figure(figsize=(9,9))\n",
    "sns.heatmap(cm, annot=True, fmt=\".3f\", linewidths=.5, square = True, cmap = 'Blues_r');\n",
    "plt.ylabel('Actual label');\n",
    "plt.xlabel('Predicted label');\n",
    "all_sample_title = 'Accuracy Score: {0}'.format(score)\n",
    "plt.title(all_sample_title, size = 15);"
   ]
  },
  {
   "cell_type": "code",
   "execution_count": 90,
   "metadata": {},
   "outputs": [],
   "source": [
    "index = 0\n",
    "misclassifiedIndex = []\n",
    "for predict, actual in zip(predictions, y_test):\n",
    "    if predict != actual: \n",
    "        misclassifiedIndex.append(index)\n",
    "    index +=1"
   ]
  },
  {
   "cell_type": "code",
   "execution_count": 91,
   "metadata": {},
   "outputs": [
    {
     "data": {
      "text/plain": [
       "<Figure size 1440x288 with 0 Axes>"
      ]
     },
     "metadata": {},
     "output_type": "display_data"
    }
   ],
   "source": [
    "plt.figure(figsize=(20,4))\n",
    "for plotIndex, wrong in enumerate(misclassifiedIndex[10:15]):\n",
    "    plt.subplot(1, 5, plotIndex + 1)\n",
    "    plt.imshow(np.reshape(x_test[wrong], (8,8)), cmap=plt.cm.gray)\n",
    "    plt.title('Predicted: {}, Actual: {}'.format(predictions[wrong], y_test[wrong]), fontsize = 20)"
   ]
  },
  {
   "cell_type": "markdown",
   "metadata": {},
   "source": [
    "## <b> Naive Bayes: <b> \n"
   ]
  },
  {
   "cell_type": "code",
   "execution_count": 34,
   "metadata": {},
   "outputs": [],
   "source": [
    "# Naive Bayes Implementation\n",
    "df\n",
    "df_target = df[\"Income\"]\n",
    "df_features = df.drop(columns = [\"Income\"])"
   ]
  },
  {
   "cell_type": "code",
   "execution_count": 35,
   "metadata": {},
   "outputs": [
    {
     "name": "stdout",
     "output_type": "stream",
     "text": [
      "# of items in target_pred:  8140\n",
      "Accuracy of Naive Bayes predictions:  80.34398034398035\n"
     ]
    }
   ],
   "source": [
    "\n",
    "#Alternate way to do Naive Byes\n",
    "df.columns\n",
    "X_train, X_test, y_train, y_test = train_test_split(df_features, df_target)\n",
    "model = GaussianNB()\n",
    "model.fit(X_train, y_train)\n",
    "target_pred = model.predict(X_test)\n",
    "\n",
    "count = 0\n",
    "\n",
    "for i in target_pred:\n",
    "    count = count + 1\n",
    "print(\"# of items in target_pred: \", count)\n",
    "\n",
    "#not 100% about these results, need to look more into them\n",
    "# I think it might be trying to predict every row in the dataset or something similar\n",
    "accuracy = accuracy_score(y_test, target_pred)*100\n",
    "print(\"Accuracy of Naive Bayes predictions: \", accuracy)"
   ]
  },
  {
   "cell_type": "code",
   "execution_count": 36,
   "metadata": {},
   "outputs": [
    {
     "ename": "AttributeError",
     "evalue": "module 'numpy' has no attribute 'unqiue'",
     "output_type": "error",
     "traceback": [
      "\u001b[1;31m---------------------------------------------------------------------------\u001b[0m",
      "\u001b[1;31mAttributeError\u001b[0m                            Traceback (most recent call last)",
      "\u001b[1;32m<ipython-input-36-1b81f616745a>\u001b[0m in \u001b[0;36m<module>\u001b[1;34m\u001b[0m\n\u001b[0;32m      1\u001b[0m \u001b[0mmat\u001b[0m \u001b[1;33m=\u001b[0m \u001b[0mconfusion_matrix\u001b[0m\u001b[1;33m(\u001b[0m\u001b[0mtarget_pred\u001b[0m\u001b[1;33m,\u001b[0m \u001b[0my_test\u001b[0m\u001b[1;33m)\u001b[0m\u001b[1;33m\u001b[0m\u001b[1;33m\u001b[0m\u001b[0m\n\u001b[1;32m----> 2\u001b[1;33m \u001b[0mnames\u001b[0m \u001b[1;33m=\u001b[0m \u001b[0mnp\u001b[0m\u001b[1;33m.\u001b[0m\u001b[0munqiue\u001b[0m\u001b[1;33m(\u001b[0m\u001b[0mpred\u001b[0m\u001b[1;33m)\u001b[0m\u001b[1;33m\u001b[0m\u001b[1;33m\u001b[0m\u001b[0m\n\u001b[0m\u001b[0;32m      3\u001b[0m \u001b[0msns\u001b[0m\u001b[1;33m.\u001b[0m\u001b[0mheatmap\u001b[0m\u001b[1;33m(\u001b[0m\u001b[0mmat\u001b[0m\u001b[1;33m,\u001b[0m \u001b[0msquare\u001b[0m\u001b[1;33m=\u001b[0m\u001b[1;32mTrue\u001b[0m\u001b[1;33m,\u001b[0m \u001b[0mannot\u001b[0m \u001b[1;33m=\u001b[0m \u001b[1;32mTrue\u001b[0m\u001b[1;33m,\u001b[0m \u001b[0mfmt\u001b[0m \u001b[1;33m=\u001b[0m \u001b[1;34m'd'\u001b[0m\u001b[1;33m,\u001b[0m \u001b[0mcbar\u001b[0m \u001b[1;33m=\u001b[0m \u001b[1;32mFalse\u001b[0m\u001b[1;33m,\u001b[0m \u001b[0mxticklabels\u001b[0m \u001b[1;33m=\u001b[0m \u001b[0mnames\u001b[0m\u001b[1;33m,\u001b[0m \u001b[0myticklabels\u001b[0m \u001b[1;33m=\u001b[0m \u001b[0mnames\u001b[0m\u001b[1;33m)\u001b[0m\u001b[1;33m\u001b[0m\u001b[1;33m\u001b[0m\u001b[0m\n\u001b[0;32m      4\u001b[0m \u001b[0mplt\u001b[0m\u001b[1;33m.\u001b[0m\u001b[0mxlabel\u001b[0m\u001b[1;33m(\u001b[0m\u001b[1;34m'X'\u001b[0m\u001b[1;33m)\u001b[0m\u001b[1;33m\u001b[0m\u001b[1;33m\u001b[0m\u001b[0m\n\u001b[0;32m      5\u001b[0m \u001b[0mplt\u001b[0m\u001b[1;33m.\u001b[0m\u001b[0mxlabel\u001b[0m\u001b[1;33m(\u001b[0m\u001b[1;34m'Predicted'\u001b[0m\u001b[1;33m)\u001b[0m\u001b[1;33m\u001b[0m\u001b[1;33m\u001b[0m\u001b[0m\n",
      "\u001b[1;31mAttributeError\u001b[0m: module 'numpy' has no attribute 'unqiue'"
     ]
    }
   ],
   "source": [
    "mat = confusion_matrix(target_pred, y_test)\n",
    "names = np.unqiue(pred)\n",
    "sns.heatmap(mat, square=True, annot = True, fmt = 'd', cbar = False, xticklabels = names, yticklabels = names)\n",
    "plt.xlabel('X')\n",
    "plt.xlabel('Predicted')"
   ]
  },
  {
   "cell_type": "markdown",
   "metadata": {},
   "source": [
    "## <b> K-Means Clustering: <b>"
   ]
  },
  {
   "cell_type": "code",
   "execution_count": 237,
   "metadata": {},
   "outputs": [],
   "source": [
    "# Import remaining required packages\n",
    "# Plot styling\n",
    "import seaborn as sns; sns.set()  # for plot styling\n",
    "\n",
    "plt.rcParams['figure.figsize'] = (16, 9)\n",
    "plt.style.use('ggplot')\n",
    "\n",
    "%matplotlib inline"
   ]
  },
  {
   "cell_type": "code",
   "execution_count": 238,
   "metadata": {},
   "outputs": [
    {
     "data": {
      "text/html": [
       "<div>\n",
       "<style scoped>\n",
       "    .dataframe tbody tr th:only-of-type {\n",
       "        vertical-align: middle;\n",
       "    }\n",
       "\n",
       "    .dataframe tbody tr th {\n",
       "        vertical-align: top;\n",
       "    }\n",
       "\n",
       "    .dataframe thead th {\n",
       "        text-align: right;\n",
       "    }\n",
       "</style>\n",
       "<table border=\"1\" class=\"dataframe\">\n",
       "  <thead>\n",
       "    <tr style=\"text-align: right;\">\n",
       "      <th></th>\n",
       "      <th>Age</th>\n",
       "      <th>Workclass</th>\n",
       "      <th>Fnlwgt</th>\n",
       "      <th>Education</th>\n",
       "      <th>Education-Num</th>\n",
       "      <th>Maritial-Status</th>\n",
       "      <th>Occupation</th>\n",
       "      <th>Relationship</th>\n",
       "      <th>Race</th>\n",
       "      <th>Sex</th>\n",
       "      <th>Capital-Gain</th>\n",
       "      <th>Capital-Loss</th>\n",
       "      <th>Hours-Per-Week</th>\n",
       "      <th>Native-Country</th>\n",
       "      <th>Income</th>\n",
       "    </tr>\n",
       "  </thead>\n",
       "  <tbody>\n",
       "    <tr>\n",
       "      <td>0</td>\n",
       "      <td>50</td>\n",
       "      <td>Self-emp-not-inc</td>\n",
       "      <td>83311</td>\n",
       "      <td>Bachelors</td>\n",
       "      <td>13</td>\n",
       "      <td>Married-civ-spouse</td>\n",
       "      <td>Exec-managerial</td>\n",
       "      <td>Husband</td>\n",
       "      <td>White</td>\n",
       "      <td>Male</td>\n",
       "      <td>0</td>\n",
       "      <td>0</td>\n",
       "      <td>13</td>\n",
       "      <td>United-States</td>\n",
       "      <td>&lt;=50K</td>\n",
       "    </tr>\n",
       "    <tr>\n",
       "      <td>1</td>\n",
       "      <td>38</td>\n",
       "      <td>Private</td>\n",
       "      <td>215646</td>\n",
       "      <td>HS-grad</td>\n",
       "      <td>9</td>\n",
       "      <td>Divorced</td>\n",
       "      <td>Handlers-cleaners</td>\n",
       "      <td>Not-in-family</td>\n",
       "      <td>White</td>\n",
       "      <td>Male</td>\n",
       "      <td>0</td>\n",
       "      <td>0</td>\n",
       "      <td>40</td>\n",
       "      <td>United-States</td>\n",
       "      <td>&lt;=50K</td>\n",
       "    </tr>\n",
       "    <tr>\n",
       "      <td>2</td>\n",
       "      <td>53</td>\n",
       "      <td>Private</td>\n",
       "      <td>234721</td>\n",
       "      <td>11th</td>\n",
       "      <td>7</td>\n",
       "      <td>Married-civ-spouse</td>\n",
       "      <td>Handlers-cleaners</td>\n",
       "      <td>Husband</td>\n",
       "      <td>Black</td>\n",
       "      <td>Male</td>\n",
       "      <td>0</td>\n",
       "      <td>0</td>\n",
       "      <td>40</td>\n",
       "      <td>United-States</td>\n",
       "      <td>&lt;=50K</td>\n",
       "    </tr>\n",
       "    <tr>\n",
       "      <td>3</td>\n",
       "      <td>28</td>\n",
       "      <td>Private</td>\n",
       "      <td>338409</td>\n",
       "      <td>Bachelors</td>\n",
       "      <td>13</td>\n",
       "      <td>Married-civ-spouse</td>\n",
       "      <td>Prof-specialty</td>\n",
       "      <td>Wife</td>\n",
       "      <td>Black</td>\n",
       "      <td>Female</td>\n",
       "      <td>0</td>\n",
       "      <td>0</td>\n",
       "      <td>40</td>\n",
       "      <td>Cuba</td>\n",
       "      <td>&lt;=50K</td>\n",
       "    </tr>\n",
       "    <tr>\n",
       "      <td>4</td>\n",
       "      <td>37</td>\n",
       "      <td>Private</td>\n",
       "      <td>284582</td>\n",
       "      <td>Masters</td>\n",
       "      <td>14</td>\n",
       "      <td>Married-civ-spouse</td>\n",
       "      <td>Exec-managerial</td>\n",
       "      <td>Wife</td>\n",
       "      <td>White</td>\n",
       "      <td>Female</td>\n",
       "      <td>0</td>\n",
       "      <td>0</td>\n",
       "      <td>40</td>\n",
       "      <td>United-States</td>\n",
       "      <td>&lt;=50K</td>\n",
       "    </tr>\n",
       "  </tbody>\n",
       "</table>\n",
       "</div>"
      ],
      "text/plain": [
       "   Age          Workclass  Fnlwgt   Education  Education-Num  \\\n",
       "0   50   Self-emp-not-inc   83311   Bachelors             13   \n",
       "1   38            Private  215646     HS-grad              9   \n",
       "2   53            Private  234721        11th              7   \n",
       "3   28            Private  338409   Bachelors             13   \n",
       "4   37            Private  284582     Masters             14   \n",
       "\n",
       "       Maritial-Status          Occupation    Relationship    Race      Sex  \\\n",
       "0   Married-civ-spouse     Exec-managerial         Husband   White     Male   \n",
       "1             Divorced   Handlers-cleaners   Not-in-family   White     Male   \n",
       "2   Married-civ-spouse   Handlers-cleaners         Husband   Black     Male   \n",
       "3   Married-civ-spouse      Prof-specialty            Wife   Black   Female   \n",
       "4   Married-civ-spouse     Exec-managerial            Wife   White   Female   \n",
       "\n",
       "   Capital-Gain  Capital-Loss  Hours-Per-Week  Native-Country  Income  \n",
       "0             0             0              13   United-States   <=50K  \n",
       "1             0             0              40   United-States   <=50K  \n",
       "2             0             0              40   United-States   <=50K  \n",
       "3             0             0              40            Cuba   <=50K  \n",
       "4             0             0              40   United-States   <=50K  "
      ]
     },
     "execution_count": 238,
     "metadata": {},
     "output_type": "execute_result"
    }
   ],
   "source": [
    "data.head()"
   ]
  },
  {
   "cell_type": "code",
   "execution_count": 239,
   "metadata": {},
   "outputs": [
    {
     "data": {
      "text/html": [
       "<div>\n",
       "<style scoped>\n",
       "    .dataframe tbody tr th:only-of-type {\n",
       "        vertical-align: middle;\n",
       "    }\n",
       "\n",
       "    .dataframe tbody tr th {\n",
       "        vertical-align: top;\n",
       "    }\n",
       "\n",
       "    .dataframe thead th {\n",
       "        text-align: right;\n",
       "    }\n",
       "</style>\n",
       "<table border=\"1\" class=\"dataframe\">\n",
       "  <thead>\n",
       "    <tr style=\"text-align: right;\">\n",
       "      <th></th>\n",
       "      <th>Workclass</th>\n",
       "      <th>Education</th>\n",
       "      <th>Maritial-Status</th>\n",
       "      <th>Occupation</th>\n",
       "      <th>Relationship</th>\n",
       "      <th>Race</th>\n",
       "      <th>Sex</th>\n",
       "      <th>Native-Country</th>\n",
       "      <th>Income</th>\n",
       "      <th>Age</th>\n",
       "      <th>Education-Num</th>\n",
       "      <th>Capital-Gain</th>\n",
       "      <th>Capital-Loss</th>\n",
       "      <th>Hours-Per-Week</th>\n",
       "    </tr>\n",
       "  </thead>\n",
       "  <tbody>\n",
       "    <tr>\n",
       "      <td>0</td>\n",
       "      <td>6</td>\n",
       "      <td>9</td>\n",
       "      <td>2</td>\n",
       "      <td>4</td>\n",
       "      <td>0</td>\n",
       "      <td>4</td>\n",
       "      <td>1</td>\n",
       "      <td>39</td>\n",
       "      <td>0</td>\n",
       "      <td>50</td>\n",
       "      <td>13</td>\n",
       "      <td>0</td>\n",
       "      <td>0</td>\n",
       "      <td>13</td>\n",
       "    </tr>\n",
       "    <tr>\n",
       "      <td>1</td>\n",
       "      <td>4</td>\n",
       "      <td>11</td>\n",
       "      <td>0</td>\n",
       "      <td>6</td>\n",
       "      <td>1</td>\n",
       "      <td>4</td>\n",
       "      <td>1</td>\n",
       "      <td>39</td>\n",
       "      <td>0</td>\n",
       "      <td>38</td>\n",
       "      <td>9</td>\n",
       "      <td>0</td>\n",
       "      <td>0</td>\n",
       "      <td>40</td>\n",
       "    </tr>\n",
       "    <tr>\n",
       "      <td>2</td>\n",
       "      <td>4</td>\n",
       "      <td>1</td>\n",
       "      <td>2</td>\n",
       "      <td>6</td>\n",
       "      <td>0</td>\n",
       "      <td>2</td>\n",
       "      <td>1</td>\n",
       "      <td>39</td>\n",
       "      <td>0</td>\n",
       "      <td>53</td>\n",
       "      <td>7</td>\n",
       "      <td>0</td>\n",
       "      <td>0</td>\n",
       "      <td>40</td>\n",
       "    </tr>\n",
       "    <tr>\n",
       "      <td>3</td>\n",
       "      <td>4</td>\n",
       "      <td>9</td>\n",
       "      <td>2</td>\n",
       "      <td>10</td>\n",
       "      <td>5</td>\n",
       "      <td>2</td>\n",
       "      <td>0</td>\n",
       "      <td>5</td>\n",
       "      <td>0</td>\n",
       "      <td>28</td>\n",
       "      <td>13</td>\n",
       "      <td>0</td>\n",
       "      <td>0</td>\n",
       "      <td>40</td>\n",
       "    </tr>\n",
       "    <tr>\n",
       "      <td>4</td>\n",
       "      <td>4</td>\n",
       "      <td>12</td>\n",
       "      <td>2</td>\n",
       "      <td>4</td>\n",
       "      <td>5</td>\n",
       "      <td>4</td>\n",
       "      <td>0</td>\n",
       "      <td>39</td>\n",
       "      <td>0</td>\n",
       "      <td>37</td>\n",
       "      <td>14</td>\n",
       "      <td>0</td>\n",
       "      <td>0</td>\n",
       "      <td>40</td>\n",
       "    </tr>\n",
       "  </tbody>\n",
       "</table>\n",
       "</div>"
      ],
      "text/plain": [
       "   Workclass  Education  Maritial-Status  Occupation  Relationship  Race  Sex  \\\n",
       "0          6          9                2           4             0     4    1   \n",
       "1          4         11                0           6             1     4    1   \n",
       "2          4          1                2           6             0     2    1   \n",
       "3          4          9                2          10             5     2    0   \n",
       "4          4         12                2           4             5     4    0   \n",
       "\n",
       "   Native-Country  Income  Age  Education-Num  Capital-Gain  Capital-Loss  \\\n",
       "0              39       0   50             13             0             0   \n",
       "1              39       0   38              9             0             0   \n",
       "2              39       0   53              7             0             0   \n",
       "3               5       0   28             13             0             0   \n",
       "4              39       0   37             14             0             0   \n",
       "\n",
       "   Hours-Per-Week  \n",
       "0              13  \n",
       "1              40  \n",
       "2              40  \n",
       "3              40  \n",
       "4              40  "
      ]
     },
     "execution_count": 239,
     "metadata": {},
     "output_type": "execute_result"
    }
   ],
   "source": [
    "df.head()"
   ]
  },
  {
   "cell_type": "markdown",
   "metadata": {},
   "source": [
    "Because of the size and the fact that the set is unscaled, I will need to perform PCA and scaling on the set before I can perform clustering."
   ]
  },
  {
   "cell_type": "markdown",
   "metadata": {},
   "source": [
    "### PCA and Scaling:"
   ]
  },
  {
   "cell_type": "code",
   "execution_count": 266,
   "metadata": {},
   "outputs": [
    {
     "name": "stdout",
     "output_type": "stream",
     "text": [
      "<class 'pandas.core.frame.DataFrame'>\n",
      "RangeIndex: 32560 entries, 0 to 32559\n",
      "Data columns (total 14 columns):\n",
      "Workclass          32560 non-null int32\n",
      "Education          32560 non-null int32\n",
      "Maritial-Status    32560 non-null int32\n",
      "Occupation         32560 non-null int32\n",
      "Relationship       32560 non-null int32\n",
      "Race               32560 non-null int32\n",
      "Sex                32560 non-null int32\n",
      "Native-Country     32560 non-null int32\n",
      "Income             32560 non-null int32\n",
      "Age                32560 non-null int64\n",
      "Education-Num      32560 non-null int64\n",
      "Capital-Gain       32560 non-null int64\n",
      "Capital-Loss       32560 non-null int64\n",
      "Hours-Per-Week     32560 non-null int64\n",
      "dtypes: int32(9), int64(5)\n",
      "memory usage: 2.4 MB\n"
     ]
    }
   ],
   "source": [
    "df.info()"
   ]
  },
  {
   "cell_type": "code",
   "execution_count": 267,
   "metadata": {},
   "outputs": [
    {
     "data": {
      "text/plain": [
       "Workclass             3.868796\n",
       "Education            10.298249\n",
       "Maritial-Status       2.611794\n",
       "Occupation            6.572912\n",
       "Relationship          1.446376\n",
       "Race                  3.665848\n",
       "Sex                   0.669195\n",
       "Native-Country       36.718796\n",
       "Income                0.240817\n",
       "Age                  38.581634\n",
       "Education-Num        10.080590\n",
       "Capital-Gain       1077.615172\n",
       "Capital-Loss         87.306511\n",
       "Hours-Per-Week       40.437469\n",
       "dtype: float64"
      ]
     },
     "execution_count": 267,
     "metadata": {},
     "output_type": "execute_result"
    }
   ],
   "source": [
    "df.mean()"
   ]
  },
  {
   "cell_type": "code",
   "execution_count": 268,
   "metadata": {},
   "outputs": [
    {
     "data": {
      "text/plain": [
       "Workclass          2.119583e+00\n",
       "Education          1.497935e+01\n",
       "Maritial-Status    2.268714e+00\n",
       "Occupation         1.788283e+01\n",
       "Relationship       2.581786e+00\n",
       "Race               7.204897e-01\n",
       "Sex                2.213797e-01\n",
       "Native-Country     6.121328e+01\n",
       "Income             1.828298e-01\n",
       "Age                1.860671e+02\n",
       "Education-Num      6.618831e+00\n",
       "Capital-Gain       5.454418e+07\n",
       "Capital-Loss       1.623817e+05\n",
       "Hours-Per-Week     1.524637e+02\n",
       "dtype: float64"
      ]
     },
     "execution_count": 268,
     "metadata": {},
     "output_type": "execute_result"
    }
   ],
   "source": [
    "df.var()"
   ]
  },
  {
   "cell_type": "code",
   "execution_count": 269,
   "metadata": {
    "scrolled": true
   },
   "outputs": [
    {
     "data": {
      "text/html": [
       "<div>\n",
       "<style scoped>\n",
       "    .dataframe tbody tr th:only-of-type {\n",
       "        vertical-align: middle;\n",
       "    }\n",
       "\n",
       "    .dataframe tbody tr th {\n",
       "        vertical-align: top;\n",
       "    }\n",
       "\n",
       "    .dataframe thead th {\n",
       "        text-align: right;\n",
       "    }\n",
       "</style>\n",
       "<table border=\"1\" class=\"dataframe\">\n",
       "  <thead>\n",
       "    <tr style=\"text-align: right;\">\n",
       "      <th></th>\n",
       "      <th>Workclass</th>\n",
       "      <th>Education</th>\n",
       "      <th>Maritial-Status</th>\n",
       "      <th>Occupation</th>\n",
       "      <th>Relationship</th>\n",
       "      <th>Race</th>\n",
       "      <th>Sex</th>\n",
       "      <th>Native-Country</th>\n",
       "      <th>Income</th>\n",
       "      <th>Age</th>\n",
       "      <th>Education-Num</th>\n",
       "      <th>Capital-Gain</th>\n",
       "      <th>Capital-Loss</th>\n",
       "      <th>Hours-Per-Week</th>\n",
       "    </tr>\n",
       "  </thead>\n",
       "  <tbody>\n",
       "    <tr>\n",
       "      <td>0</td>\n",
       "      <td>1.463883</td>\n",
       "      <td>-0.335443</td>\n",
       "      <td>-0.406183</td>\n",
       "      <td>-0.608434</td>\n",
       "      <td>-0.900177</td>\n",
       "      <td>0.393675</td>\n",
       "      <td>0.703087</td>\n",
       "      <td>0.291573</td>\n",
       "      <td>-0.56321</td>\n",
       "      <td>0.837097</td>\n",
       "      <td>1.134779</td>\n",
       "      <td>-0.145914</td>\n",
       "      <td>-0.216663</td>\n",
       "      <td>-2.22212</td>\n",
       "    </tr>\n",
       "    <tr>\n",
       "      <td>1</td>\n",
       "      <td>0.090121</td>\n",
       "      <td>0.181319</td>\n",
       "      <td>-1.734026</td>\n",
       "      <td>-0.135480</td>\n",
       "      <td>-0.277810</td>\n",
       "      <td>0.393675</td>\n",
       "      <td>0.703087</td>\n",
       "      <td>0.291573</td>\n",
       "      <td>-0.56321</td>\n",
       "      <td>-0.042640</td>\n",
       "      <td>-0.420027</td>\n",
       "      <td>-0.145914</td>\n",
       "      <td>-0.216663</td>\n",
       "      <td>-0.03543</td>\n",
       "    </tr>\n",
       "    <tr>\n",
       "      <td>2</td>\n",
       "      <td>0.090121</td>\n",
       "      <td>-2.402489</td>\n",
       "      <td>-0.406183</td>\n",
       "      <td>-0.135480</td>\n",
       "      <td>-0.900177</td>\n",
       "      <td>-1.962583</td>\n",
       "      <td>0.703087</td>\n",
       "      <td>0.291573</td>\n",
       "      <td>-0.56321</td>\n",
       "      <td>1.057031</td>\n",
       "      <td>-1.197429</td>\n",
       "      <td>-0.145914</td>\n",
       "      <td>-0.216663</td>\n",
       "      <td>-0.03543</td>\n",
       "    </tr>\n",
       "    <tr>\n",
       "      <td>3</td>\n",
       "      <td>0.090121</td>\n",
       "      <td>-0.335443</td>\n",
       "      <td>-0.406183</td>\n",
       "      <td>0.810427</td>\n",
       "      <td>2.211658</td>\n",
       "      <td>-1.962583</td>\n",
       "      <td>-1.422298</td>\n",
       "      <td>-4.054157</td>\n",
       "      <td>-0.56321</td>\n",
       "      <td>-0.775755</td>\n",
       "      <td>1.134779</td>\n",
       "      <td>-0.145914</td>\n",
       "      <td>-0.216663</td>\n",
       "      <td>-0.03543</td>\n",
       "    </tr>\n",
       "    <tr>\n",
       "      <td>4</td>\n",
       "      <td>0.090121</td>\n",
       "      <td>0.439700</td>\n",
       "      <td>-0.406183</td>\n",
       "      <td>-0.608434</td>\n",
       "      <td>2.211658</td>\n",
       "      <td>0.393675</td>\n",
       "      <td>-1.422298</td>\n",
       "      <td>0.291573</td>\n",
       "      <td>-0.56321</td>\n",
       "      <td>-0.115952</td>\n",
       "      <td>1.523480</td>\n",
       "      <td>-0.145914</td>\n",
       "      <td>-0.216663</td>\n",
       "      <td>-0.03543</td>\n",
       "    </tr>\n",
       "  </tbody>\n",
       "</table>\n",
       "</div>"
      ],
      "text/plain": [
       "   Workclass  Education  Maritial-Status  Occupation  Relationship      Race  \\\n",
       "0   1.463883  -0.335443        -0.406183   -0.608434     -0.900177  0.393675   \n",
       "1   0.090121   0.181319        -1.734026   -0.135480     -0.277810  0.393675   \n",
       "2   0.090121  -2.402489        -0.406183   -0.135480     -0.900177 -1.962583   \n",
       "3   0.090121  -0.335443        -0.406183    0.810427      2.211658 -1.962583   \n",
       "4   0.090121   0.439700        -0.406183   -0.608434      2.211658  0.393675   \n",
       "\n",
       "        Sex  Native-Country   Income       Age  Education-Num  Capital-Gain  \\\n",
       "0  0.703087        0.291573 -0.56321  0.837097       1.134779     -0.145914   \n",
       "1  0.703087        0.291573 -0.56321 -0.042640      -0.420027     -0.145914   \n",
       "2  0.703087        0.291573 -0.56321  1.057031      -1.197429     -0.145914   \n",
       "3 -1.422298       -4.054157 -0.56321 -0.775755       1.134779     -0.145914   \n",
       "4 -1.422298        0.291573 -0.56321 -0.115952       1.523480     -0.145914   \n",
       "\n",
       "   Capital-Loss  Hours-Per-Week  \n",
       "0     -0.216663        -2.22212  \n",
       "1     -0.216663        -0.03543  \n",
       "2     -0.216663        -0.03543  \n",
       "3     -0.216663        -0.03543  \n",
       "4     -0.216663        -0.03543  "
      ]
     },
     "execution_count": 269,
     "metadata": {},
     "output_type": "execute_result"
    }
   ],
   "source": [
    "# Scaling:\n",
    "X = pd.DataFrame(scale(df), index=df.index, columns=df.columns)\n",
    "X.head()"
   ]
  },
  {
   "cell_type": "code",
   "execution_count": 270,
   "metadata": {
    "scrolled": true
   },
   "outputs": [
    {
     "data": {
      "text/plain": [
       "Workclass          4.317185e-16\n",
       "Education          1.326890e-15\n",
       "Maritial-Status    2.128178e-16\n",
       "Occupation        -2.183893e-16\n",
       "Relationship      -3.435963e-16\n",
       "Race               2.071831e-15\n",
       "Sex               -2.825340e-16\n",
       "Native-Country    -7.107678e-17\n",
       "Income             1.073998e-15\n",
       "Age                1.224314e-16\n",
       "Education-Num     -7.645058e-17\n",
       "Capital-Gain       6.867425e-16\n",
       "Capital-Loss       1.481258e-16\n",
       "Hours-Per-Week     7.912677e-16\n",
       "dtype: float64"
      ]
     },
     "execution_count": 270,
     "metadata": {},
     "output_type": "execute_result"
    }
   ],
   "source": [
    "X.mean()"
   ]
  },
  {
   "cell_type": "code",
   "execution_count": 271,
   "metadata": {},
   "outputs": [
    {
     "data": {
      "text/plain": [
       "Workclass          1.000031\n",
       "Education          1.000031\n",
       "Maritial-Status    1.000031\n",
       "Occupation         1.000031\n",
       "Relationship       1.000031\n",
       "Race               1.000031\n",
       "Sex                1.000031\n",
       "Native-Country     1.000031\n",
       "Income             1.000031\n",
       "Age                1.000031\n",
       "Education-Num      1.000031\n",
       "Capital-Gain       1.000031\n",
       "Capital-Loss       1.000031\n",
       "Hours-Per-Week     1.000031\n",
       "dtype: float64"
      ]
     },
     "execution_count": 271,
     "metadata": {},
     "output_type": "execute_result"
    }
   ],
   "source": [
    "X.var()"
   ]
  },
  {
   "cell_type": "code",
   "execution_count": 272,
   "metadata": {},
   "outputs": [
    {
     "data": {
      "text/plain": [
       "array([[ 1.66661805e-01, -6.73382475e-03, -5.88167753e-01,\n",
       "        -1.30494112e-02,  2.69621032e-01,  1.74977687e-01,\n",
       "        -1.35651968e-01,  5.10456885e-02, -7.34041825e-02,\n",
       "         5.80279427e-01, -2.38043047e-01, -3.18889764e-01,\n",
       "        -3.51400212e-02, -6.68673447e-03],\n",
       "       [ 1.15779882e-01,  5.51889909e-01,  3.48462428e-02,\n",
       "        -1.33786804e-01, -2.57713355e-01, -1.09894614e-01,\n",
       "        -3.84845893e-01, -1.37179454e-01, -1.39073312e-01,\n",
       "         3.19699463e-01,  1.60801765e-01,  3.01602842e-01,\n",
       "         4.21763509e-01, -3.50248813e-02],\n",
       "       [-2.93819989e-01,  6.98039890e-02, -2.34714974e-01,\n",
       "        -4.05504874e-02, -3.49022048e-01, -2.59955311e-01,\n",
       "         4.34741838e-01, -2.25916010e-01, -1.00187422e-02,\n",
       "         6.96716150e-02, -6.10610306e-01,  1.96870836e-01,\n",
       "         7.55466621e-02,  1.91105779e-02],\n",
       "       [ 1.41093103e-01,  3.82641433e-02, -6.17614699e-01,\n",
       "         7.17678000e-02,  1.88886388e-01,  1.71216824e-01,\n",
       "         7.22801131e-02, -3.46769878e-01,  6.96743228e-02,\n",
       "        -4.51997961e-01,  2.41518476e-01,  3.44060666e-01,\n",
       "         1.25123785e-01, -6.44050633e-03],\n",
       "       [-4.48951415e-01,  3.16573470e-01, -2.00533659e-02,\n",
       "         9.70572649e-02,  2.50255000e-01,  1.71006454e-01,\n",
       "         3.23650044e-02,  2.42025256e-01, -4.44479817e-04,\n",
       "        -8.38034400e-02, -9.82048352e-03, -6.12498272e-02,\n",
       "         2.15594399e-01,  6.92499084e-01],\n",
       "       [ 1.33238869e-01, -3.25359493e-02,  2.81413496e-02,\n",
       "        -6.26132295e-01,  2.00796918e-01,  3.30689841e-02,\n",
       "         2.21064713e-01,  1.60954426e-01, -6.64398740e-01,\n",
       "        -1.26217351e-01, -3.41665050e-02,  1.11342828e-01,\n",
       "         3.35080293e-03,  3.51287077e-02],\n",
       "       [ 3.89403559e-01, -3.67750329e-01, -8.84002001e-02,\n",
       "        -1.13142675e-01, -3.46952498e-01, -2.61734734e-01,\n",
       "         4.38646571e-02, -1.24747358e-01,  5.29278706e-02,\n",
       "         8.88388199e-02,  1.99992106e-01, -1.18458502e-01,\n",
       "         7.70822412e-02,  6.44575022e-01],\n",
       "       [ 3.40243378e-02,  1.42024387e-01,  9.53741582e-02,\n",
       "        -6.55010458e-01,  2.16660246e-01,  3.04092090e-02,\n",
       "         1.00938894e-01, -1.05120262e-01,  6.83072263e-01,\n",
       "         5.53663715e-02, -3.25032148e-02, -2.67217991e-02,\n",
       "         2.28292409e-03,  1.51628115e-03],\n",
       "       [ 4.16357871e-01,  1.96904659e-01,  1.39858455e-01,\n",
       "         1.64773420e-01,  5.40289676e-02,  2.70488576e-02,\n",
       "         2.75074817e-01, -3.10081481e-03,  7.84891408e-03,\n",
       "        -2.52383241e-01, -2.04831461e-01, -4.75482535e-01,\n",
       "         5.60269366e-01, -1.27032415e-01],\n",
       "       [ 2.73547635e-01, -1.30382144e-01,  3.87053506e-01,\n",
       "         1.71193687e-01,  3.29186288e-01,  2.41025359e-01,\n",
       "        -1.51724762e-01, -4.03920825e-01, -4.66115254e-02,\n",
       "         9.80618417e-02, -4.30241908e-01,  3.44965597e-01,\n",
       "        -4.02276889e-02,  2.42711416e-01],\n",
       "       [ 2.64775424e-01,  5.81743168e-01, -3.05309222e-02,\n",
       "         2.20505466e-02, -1.44582496e-01, -4.24290544e-02,\n",
       "        -3.63477745e-02, -1.17841803e-01, -6.70701535e-02,\n",
       "        -2.21440582e-01, -9.98050213e-02, -2.12627420e-01,\n",
       "        -6.46046640e-01,  1.61419527e-01],\n",
       "       [ 1.72405209e-01,  1.79990698e-01,  6.49229993e-02,\n",
       "         2.64462922e-01,  4.03939562e-01, -4.57982221e-01,\n",
       "         4.89341591e-01,  1.02318955e-01,  3.08247813e-02,\n",
       "         3.18401331e-01,  2.69326436e-01,  2.36543795e-01,\n",
       "        -1.00291567e-01, -2.69144585e-03],\n",
       "       [ 1.26470585e-01,  7.50744998e-02,  7.42112839e-02,\n",
       "         5.44185036e-02, -3.61192540e-01,  6.97979852e-01,\n",
       "         4.58648285e-01,  1.13143739e-01,  4.70599745e-02,\n",
       "         2.57093322e-01,  1.80476138e-01,  1.55197882e-01,\n",
       "        -6.39517784e-02,  6.72128713e-03],\n",
       "       [ 3.41280061e-01, -1.08612757e-02, -1.34815608e-01,\n",
       "         4.45905905e-02, -8.55286013e-02, -5.56667220e-02,\n",
       "        -1.65578597e-01,  7.04183928e-01,  2.22717626e-01,\n",
       "        -1.67852320e-01, -3.19142055e-01,  3.85978322e-01,\n",
       "         5.82124481e-03,  2.99805970e-02]])"
      ]
     },
     "execution_count": 272,
     "metadata": {},
     "output_type": "execute_result"
    }
   ],
   "source": [
    "# PCA\n",
    "PCA().fit(X).components_.T"
   ]
  },
  {
   "cell_type": "code",
   "execution_count": 273,
   "metadata": {},
   "outputs": [
    {
     "data": {
      "text/html": [
       "<div>\n",
       "<style scoped>\n",
       "    .dataframe tbody tr th:only-of-type {\n",
       "        vertical-align: middle;\n",
       "    }\n",
       "\n",
       "    .dataframe tbody tr th {\n",
       "        vertical-align: top;\n",
       "    }\n",
       "\n",
       "    .dataframe thead th {\n",
       "        text-align: right;\n",
       "    }\n",
       "</style>\n",
       "<table border=\"1\" class=\"dataframe\">\n",
       "  <thead>\n",
       "    <tr style=\"text-align: right;\">\n",
       "      <th></th>\n",
       "      <th>V1</th>\n",
       "      <th>V2</th>\n",
       "      <th>V3</th>\n",
       "      <th>V4</th>\n",
       "      <th>V5</th>\n",
       "      <th>V6</th>\n",
       "      <th>V7</th>\n",
       "      <th>V8</th>\n",
       "      <th>V9</th>\n",
       "      <th>V10</th>\n",
       "      <th>V11</th>\n",
       "      <th>V12</th>\n",
       "      <th>V13</th>\n",
       "      <th>V14</th>\n",
       "    </tr>\n",
       "  </thead>\n",
       "  <tbody>\n",
       "    <tr>\n",
       "      <td>Workclass</td>\n",
       "      <td>0.166662</td>\n",
       "      <td>-0.006734</td>\n",
       "      <td>-0.588168</td>\n",
       "      <td>-0.013049</td>\n",
       "      <td>0.269621</td>\n",
       "      <td>0.174978</td>\n",
       "      <td>-0.135652</td>\n",
       "      <td>0.051046</td>\n",
       "      <td>-0.073404</td>\n",
       "      <td>0.580279</td>\n",
       "      <td>-0.238043</td>\n",
       "      <td>-0.318890</td>\n",
       "      <td>-0.035140</td>\n",
       "      <td>-0.006687</td>\n",
       "    </tr>\n",
       "    <tr>\n",
       "      <td>Education</td>\n",
       "      <td>0.115780</td>\n",
       "      <td>0.551890</td>\n",
       "      <td>0.034846</td>\n",
       "      <td>-0.133787</td>\n",
       "      <td>-0.257713</td>\n",
       "      <td>-0.109895</td>\n",
       "      <td>-0.384846</td>\n",
       "      <td>-0.137179</td>\n",
       "      <td>-0.139073</td>\n",
       "      <td>0.319699</td>\n",
       "      <td>0.160802</td>\n",
       "      <td>0.301603</td>\n",
       "      <td>0.421764</td>\n",
       "      <td>-0.035025</td>\n",
       "    </tr>\n",
       "    <tr>\n",
       "      <td>Maritial-Status</td>\n",
       "      <td>-0.293820</td>\n",
       "      <td>0.069804</td>\n",
       "      <td>-0.234715</td>\n",
       "      <td>-0.040550</td>\n",
       "      <td>-0.349022</td>\n",
       "      <td>-0.259955</td>\n",
       "      <td>0.434742</td>\n",
       "      <td>-0.225916</td>\n",
       "      <td>-0.010019</td>\n",
       "      <td>0.069672</td>\n",
       "      <td>-0.610610</td>\n",
       "      <td>0.196871</td>\n",
       "      <td>0.075547</td>\n",
       "      <td>0.019111</td>\n",
       "    </tr>\n",
       "    <tr>\n",
       "      <td>Occupation</td>\n",
       "      <td>0.141093</td>\n",
       "      <td>0.038264</td>\n",
       "      <td>-0.617615</td>\n",
       "      <td>0.071768</td>\n",
       "      <td>0.188886</td>\n",
       "      <td>0.171217</td>\n",
       "      <td>0.072280</td>\n",
       "      <td>-0.346770</td>\n",
       "      <td>0.069674</td>\n",
       "      <td>-0.451998</td>\n",
       "      <td>0.241518</td>\n",
       "      <td>0.344061</td>\n",
       "      <td>0.125124</td>\n",
       "      <td>-0.006441</td>\n",
       "    </tr>\n",
       "    <tr>\n",
       "      <td>Relationship</td>\n",
       "      <td>-0.448951</td>\n",
       "      <td>0.316573</td>\n",
       "      <td>-0.020053</td>\n",
       "      <td>0.097057</td>\n",
       "      <td>0.250255</td>\n",
       "      <td>0.171006</td>\n",
       "      <td>0.032365</td>\n",
       "      <td>0.242025</td>\n",
       "      <td>-0.000444</td>\n",
       "      <td>-0.083803</td>\n",
       "      <td>-0.009820</td>\n",
       "      <td>-0.061250</td>\n",
       "      <td>0.215594</td>\n",
       "      <td>0.692499</td>\n",
       "    </tr>\n",
       "    <tr>\n",
       "      <td>Race</td>\n",
       "      <td>0.133239</td>\n",
       "      <td>-0.032536</td>\n",
       "      <td>0.028141</td>\n",
       "      <td>-0.626132</td>\n",
       "      <td>0.200797</td>\n",
       "      <td>0.033069</td>\n",
       "      <td>0.221065</td>\n",
       "      <td>0.160954</td>\n",
       "      <td>-0.664399</td>\n",
       "      <td>-0.126217</td>\n",
       "      <td>-0.034167</td>\n",
       "      <td>0.111343</td>\n",
       "      <td>0.003351</td>\n",
       "      <td>0.035129</td>\n",
       "    </tr>\n",
       "    <tr>\n",
       "      <td>Sex</td>\n",
       "      <td>0.389404</td>\n",
       "      <td>-0.367750</td>\n",
       "      <td>-0.088400</td>\n",
       "      <td>-0.113143</td>\n",
       "      <td>-0.346952</td>\n",
       "      <td>-0.261735</td>\n",
       "      <td>0.043865</td>\n",
       "      <td>-0.124747</td>\n",
       "      <td>0.052928</td>\n",
       "      <td>0.088839</td>\n",
       "      <td>0.199992</td>\n",
       "      <td>-0.118459</td>\n",
       "      <td>0.077082</td>\n",
       "      <td>0.644575</td>\n",
       "    </tr>\n",
       "    <tr>\n",
       "      <td>Native-Country</td>\n",
       "      <td>0.034024</td>\n",
       "      <td>0.142024</td>\n",
       "      <td>0.095374</td>\n",
       "      <td>-0.655010</td>\n",
       "      <td>0.216660</td>\n",
       "      <td>0.030409</td>\n",
       "      <td>0.100939</td>\n",
       "      <td>-0.105120</td>\n",
       "      <td>0.683072</td>\n",
       "      <td>0.055366</td>\n",
       "      <td>-0.032503</td>\n",
       "      <td>-0.026722</td>\n",
       "      <td>0.002283</td>\n",
       "      <td>0.001516</td>\n",
       "    </tr>\n",
       "    <tr>\n",
       "      <td>Income</td>\n",
       "      <td>0.416358</td>\n",
       "      <td>0.196905</td>\n",
       "      <td>0.139858</td>\n",
       "      <td>0.164773</td>\n",
       "      <td>0.054029</td>\n",
       "      <td>0.027049</td>\n",
       "      <td>0.275075</td>\n",
       "      <td>-0.003101</td>\n",
       "      <td>0.007849</td>\n",
       "      <td>-0.252383</td>\n",
       "      <td>-0.204831</td>\n",
       "      <td>-0.475483</td>\n",
       "      <td>0.560269</td>\n",
       "      <td>-0.127032</td>\n",
       "    </tr>\n",
       "    <tr>\n",
       "      <td>Age</td>\n",
       "      <td>0.273548</td>\n",
       "      <td>-0.130382</td>\n",
       "      <td>0.387054</td>\n",
       "      <td>0.171194</td>\n",
       "      <td>0.329186</td>\n",
       "      <td>0.241025</td>\n",
       "      <td>-0.151725</td>\n",
       "      <td>-0.403921</td>\n",
       "      <td>-0.046612</td>\n",
       "      <td>0.098062</td>\n",
       "      <td>-0.430242</td>\n",
       "      <td>0.344966</td>\n",
       "      <td>-0.040228</td>\n",
       "      <td>0.242711</td>\n",
       "    </tr>\n",
       "    <tr>\n",
       "      <td>Education-Num</td>\n",
       "      <td>0.264775</td>\n",
       "      <td>0.581743</td>\n",
       "      <td>-0.030531</td>\n",
       "      <td>0.022051</td>\n",
       "      <td>-0.144582</td>\n",
       "      <td>-0.042429</td>\n",
       "      <td>-0.036348</td>\n",
       "      <td>-0.117842</td>\n",
       "      <td>-0.067070</td>\n",
       "      <td>-0.221441</td>\n",
       "      <td>-0.099805</td>\n",
       "      <td>-0.212627</td>\n",
       "      <td>-0.646047</td>\n",
       "      <td>0.161420</td>\n",
       "    </tr>\n",
       "    <tr>\n",
       "      <td>Capital-Gain</td>\n",
       "      <td>0.172405</td>\n",
       "      <td>0.179991</td>\n",
       "      <td>0.064923</td>\n",
       "      <td>0.264463</td>\n",
       "      <td>0.403940</td>\n",
       "      <td>-0.457982</td>\n",
       "      <td>0.489342</td>\n",
       "      <td>0.102319</td>\n",
       "      <td>0.030825</td>\n",
       "      <td>0.318401</td>\n",
       "      <td>0.269326</td>\n",
       "      <td>0.236544</td>\n",
       "      <td>-0.100292</td>\n",
       "      <td>-0.002691</td>\n",
       "    </tr>\n",
       "    <tr>\n",
       "      <td>Capital-Loss</td>\n",
       "      <td>0.126471</td>\n",
       "      <td>0.075074</td>\n",
       "      <td>0.074211</td>\n",
       "      <td>0.054419</td>\n",
       "      <td>-0.361193</td>\n",
       "      <td>0.697980</td>\n",
       "      <td>0.458648</td>\n",
       "      <td>0.113144</td>\n",
       "      <td>0.047060</td>\n",
       "      <td>0.257093</td>\n",
       "      <td>0.180476</td>\n",
       "      <td>0.155198</td>\n",
       "      <td>-0.063952</td>\n",
       "      <td>0.006721</td>\n",
       "    </tr>\n",
       "    <tr>\n",
       "      <td>Hours-Per-Week</td>\n",
       "      <td>0.341280</td>\n",
       "      <td>-0.010861</td>\n",
       "      <td>-0.134816</td>\n",
       "      <td>0.044591</td>\n",
       "      <td>-0.085529</td>\n",
       "      <td>-0.055667</td>\n",
       "      <td>-0.165579</td>\n",
       "      <td>0.704184</td>\n",
       "      <td>0.222718</td>\n",
       "      <td>-0.167852</td>\n",
       "      <td>-0.319142</td>\n",
       "      <td>0.385978</td>\n",
       "      <td>0.005821</td>\n",
       "      <td>0.029981</td>\n",
       "    </tr>\n",
       "  </tbody>\n",
       "</table>\n",
       "</div>"
      ],
      "text/plain": [
       "                       V1        V2        V3        V4        V5        V6  \\\n",
       "Workclass        0.166662 -0.006734 -0.588168 -0.013049  0.269621  0.174978   \n",
       "Education        0.115780  0.551890  0.034846 -0.133787 -0.257713 -0.109895   \n",
       "Maritial-Status -0.293820  0.069804 -0.234715 -0.040550 -0.349022 -0.259955   \n",
       "Occupation       0.141093  0.038264 -0.617615  0.071768  0.188886  0.171217   \n",
       "Relationship    -0.448951  0.316573 -0.020053  0.097057  0.250255  0.171006   \n",
       "Race             0.133239 -0.032536  0.028141 -0.626132  0.200797  0.033069   \n",
       "Sex              0.389404 -0.367750 -0.088400 -0.113143 -0.346952 -0.261735   \n",
       "Native-Country   0.034024  0.142024  0.095374 -0.655010  0.216660  0.030409   \n",
       "Income           0.416358  0.196905  0.139858  0.164773  0.054029  0.027049   \n",
       "Age              0.273548 -0.130382  0.387054  0.171194  0.329186  0.241025   \n",
       "Education-Num    0.264775  0.581743 -0.030531  0.022051 -0.144582 -0.042429   \n",
       "Capital-Gain     0.172405  0.179991  0.064923  0.264463  0.403940 -0.457982   \n",
       "Capital-Loss     0.126471  0.075074  0.074211  0.054419 -0.361193  0.697980   \n",
       "Hours-Per-Week   0.341280 -0.010861 -0.134816  0.044591 -0.085529 -0.055667   \n",
       "\n",
       "                       V7        V8        V9       V10       V11       V12  \\\n",
       "Workclass       -0.135652  0.051046 -0.073404  0.580279 -0.238043 -0.318890   \n",
       "Education       -0.384846 -0.137179 -0.139073  0.319699  0.160802  0.301603   \n",
       "Maritial-Status  0.434742 -0.225916 -0.010019  0.069672 -0.610610  0.196871   \n",
       "Occupation       0.072280 -0.346770  0.069674 -0.451998  0.241518  0.344061   \n",
       "Relationship     0.032365  0.242025 -0.000444 -0.083803 -0.009820 -0.061250   \n",
       "Race             0.221065  0.160954 -0.664399 -0.126217 -0.034167  0.111343   \n",
       "Sex              0.043865 -0.124747  0.052928  0.088839  0.199992 -0.118459   \n",
       "Native-Country   0.100939 -0.105120  0.683072  0.055366 -0.032503 -0.026722   \n",
       "Income           0.275075 -0.003101  0.007849 -0.252383 -0.204831 -0.475483   \n",
       "Age             -0.151725 -0.403921 -0.046612  0.098062 -0.430242  0.344966   \n",
       "Education-Num   -0.036348 -0.117842 -0.067070 -0.221441 -0.099805 -0.212627   \n",
       "Capital-Gain     0.489342  0.102319  0.030825  0.318401  0.269326  0.236544   \n",
       "Capital-Loss     0.458648  0.113144  0.047060  0.257093  0.180476  0.155198   \n",
       "Hours-Per-Week  -0.165579  0.704184  0.222718 -0.167852 -0.319142  0.385978   \n",
       "\n",
       "                      V13       V14  \n",
       "Workclass       -0.035140 -0.006687  \n",
       "Education        0.421764 -0.035025  \n",
       "Maritial-Status  0.075547  0.019111  \n",
       "Occupation       0.125124 -0.006441  \n",
       "Relationship     0.215594  0.692499  \n",
       "Race             0.003351  0.035129  \n",
       "Sex              0.077082  0.644575  \n",
       "Native-Country   0.002283  0.001516  \n",
       "Income           0.560269 -0.127032  \n",
       "Age             -0.040228  0.242711  \n",
       "Education-Num   -0.646047  0.161420  \n",
       "Capital-Gain    -0.100292 -0.002691  \n",
       "Capital-Loss    -0.063952  0.006721  \n",
       "Hours-Per-Week   0.005821  0.029981  "
      ]
     },
     "execution_count": 273,
     "metadata": {},
     "output_type": "execute_result"
    }
   ],
   "source": [
    "pca_loadings = pd.DataFrame(PCA().fit(X).components_.T, index=df.columns, columns=['V1', 'V2', 'V3', 'V4', 'V5', 'V6', 'V7', 'V8', 'V9', 'V10', 'V11', 'V12', 'V13', 'V14'])\n",
    "pca_loadings"
   ]
  },
  {
   "cell_type": "code",
   "execution_count": 274,
   "metadata": {},
   "outputs": [
    {
     "data": {
      "text/html": [
       "<div>\n",
       "<style scoped>\n",
       "    .dataframe tbody tr th:only-of-type {\n",
       "        vertical-align: middle;\n",
       "    }\n",
       "\n",
       "    .dataframe tbody tr th {\n",
       "        vertical-align: top;\n",
       "    }\n",
       "\n",
       "    .dataframe thead th {\n",
       "        text-align: right;\n",
       "    }\n",
       "</style>\n",
       "<table border=\"1\" class=\"dataframe\">\n",
       "  <thead>\n",
       "    <tr style=\"text-align: right;\">\n",
       "      <th></th>\n",
       "      <th>PC1</th>\n",
       "      <th>PC2</th>\n",
       "      <th>PC3</th>\n",
       "      <th>PC4</th>\n",
       "      <th>PC5</th>\n",
       "      <th>PC6</th>\n",
       "      <th>PC7</th>\n",
       "      <th>PC8</th>\n",
       "      <th>PC9</th>\n",
       "      <th>PC10</th>\n",
       "      <th>PC11</th>\n",
       "      <th>PC12</th>\n",
       "      <th>PC13</th>\n",
       "      <th>PC14</th>\n",
       "    </tr>\n",
       "  </thead>\n",
       "  <tbody>\n",
       "    <tr>\n",
       "      <td>0</td>\n",
       "      <td>0.462956</td>\n",
       "      <td>-0.339835</td>\n",
       "      <td>0.077813</td>\n",
       "      <td>-0.679753</td>\n",
       "      <td>0.471427</td>\n",
       "      <td>0.156030</td>\n",
       "      <td>-0.297900</td>\n",
       "      <td>-1.923694</td>\n",
       "      <td>-0.753053</td>\n",
       "      <td>1.337059</td>\n",
       "      <td>0.097912</td>\n",
       "      <td>-1.459951</td>\n",
       "      <td>-1.504416</td>\n",
       "      <td>0.232419</td>\n",
       "    </tr>\n",
       "    <tr>\n",
       "      <td>1</td>\n",
       "      <td>0.565247</td>\n",
       "      <td>-0.736502</td>\n",
       "      <td>0.323068</td>\n",
       "      <td>-0.670153</td>\n",
       "      <td>0.424562</td>\n",
       "      <td>0.123653</td>\n",
       "      <td>-1.005439</td>\n",
       "      <td>0.300293</td>\n",
       "      <td>-0.045800</td>\n",
       "      <td>0.237645</td>\n",
       "      <td>1.262745</td>\n",
       "      <td>-0.131694</td>\n",
       "      <td>-0.092552</td>\n",
       "      <td>0.227132</td>\n",
       "    </tr>\n",
       "    <tr>\n",
       "      <td>2</td>\n",
       "      <td>-0.063610</td>\n",
       "      <td>-2.785778</td>\n",
       "      <td>0.316906</td>\n",
       "      <td>1.207720</td>\n",
       "      <td>0.472513</td>\n",
       "      <td>0.176105</td>\n",
       "      <td>-0.113421</td>\n",
       "      <td>-0.527691</td>\n",
       "      <td>1.866890</td>\n",
       "      <td>0.133657</td>\n",
       "      <td>-0.272449</td>\n",
       "      <td>-0.329151</td>\n",
       "      <td>-0.766067</td>\n",
       "      <td>-0.029340</td>\n",
       "    </tr>\n",
       "    <tr>\n",
       "      <td>3</td>\n",
       "      <td>-1.947225</td>\n",
       "      <td>1.136443</td>\n",
       "      <td>-1.264851</td>\n",
       "      <td>4.125724</td>\n",
       "      <td>-0.247434</td>\n",
       "      <td>0.526482</td>\n",
       "      <td>-1.078404</td>\n",
       "      <td>0.801313</td>\n",
       "      <td>-1.507991</td>\n",
       "      <td>-1.019436</td>\n",
       "      <td>0.529795</td>\n",
       "      <td>-0.331118</td>\n",
       "      <td>-0.711749</td>\n",
       "      <td>0.602179</td>\n",
       "    </tr>\n",
       "    <tr>\n",
       "      <td>4</td>\n",
       "      <td>-1.312459</td>\n",
       "      <td>2.190579</td>\n",
       "      <td>0.362760</td>\n",
       "      <td>-0.280111</td>\n",
       "      <td>0.860473</td>\n",
       "      <td>0.550972</td>\n",
       "      <td>-0.633968</td>\n",
       "      <td>0.797110</td>\n",
       "      <td>-0.368523</td>\n",
       "      <td>-0.208467</td>\n",
       "      <td>-0.232667</td>\n",
       "      <td>-0.294319</td>\n",
       "      <td>-0.822201</td>\n",
       "      <td>0.896415</td>\n",
       "    </tr>\n",
       "  </tbody>\n",
       "</table>\n",
       "</div>"
      ],
      "text/plain": [
       "        PC1       PC2       PC3       PC4       PC5       PC6       PC7  \\\n",
       "0  0.462956 -0.339835  0.077813 -0.679753  0.471427  0.156030 -0.297900   \n",
       "1  0.565247 -0.736502  0.323068 -0.670153  0.424562  0.123653 -1.005439   \n",
       "2 -0.063610 -2.785778  0.316906  1.207720  0.472513  0.176105 -0.113421   \n",
       "3 -1.947225  1.136443 -1.264851  4.125724 -0.247434  0.526482 -1.078404   \n",
       "4 -1.312459  2.190579  0.362760 -0.280111  0.860473  0.550972 -0.633968   \n",
       "\n",
       "        PC8       PC9      PC10      PC11      PC12      PC13      PC14  \n",
       "0 -1.923694 -0.753053  1.337059  0.097912 -1.459951 -1.504416  0.232419  \n",
       "1  0.300293 -0.045800  0.237645  1.262745 -0.131694 -0.092552  0.227132  \n",
       "2 -0.527691  1.866890  0.133657 -0.272449 -0.329151 -0.766067 -0.029340  \n",
       "3  0.801313 -1.507991 -1.019436  0.529795 -0.331118 -0.711749  0.602179  \n",
       "4  0.797110 -0.368523 -0.208467 -0.232667 -0.294319 -0.822201  0.896415  "
      ]
     },
     "execution_count": 274,
     "metadata": {},
     "output_type": "execute_result"
    }
   ],
   "source": [
    "pca = PCA()\n",
    "df_plot = pd.DataFrame(pca.fit_transform(X), columns=['PC1', 'PC2', 'PC3', 'PC4', 'PC5', 'PC6', 'PC7', 'PC8', 'PC9', 'PC10', 'PC11', 'PC12', 'PC13', 'PC14'], index=X.index)\n",
    "df_plot.head()"
   ]
  },
  {
   "cell_type": "code",
   "execution_count": 275,
   "metadata": {},
   "outputs": [
    {
     "data": {
      "text/plain": [
       "array([2.39926508, 1.44148584, 1.26526999, 1.13964582, 1.04076953,\n",
       "       1.02380759, 0.9735611 , 0.85948076, 0.84646794, 0.76488965,\n",
       "       0.69279312, 0.65122761, 0.52203703, 0.37972894])"
      ]
     },
     "execution_count": 275,
     "metadata": {},
     "output_type": "execute_result"
    }
   ],
   "source": [
    "pca.explained_variance_"
   ]
  },
  {
   "cell_type": "code",
   "execution_count": 276,
   "metadata": {},
   "outputs": [
    {
     "data": {
      "text/plain": [
       "array([0.17137081, 0.10296011, 0.09037365, 0.08140077, 0.0743384 ,\n",
       "       0.07312687, 0.06953794, 0.0613896 , 0.06046014, 0.0546333 ,\n",
       "       0.0494837 , 0.04651483, 0.03728721, 0.02712266])"
      ]
     },
     "execution_count": 276,
     "metadata": {},
     "output_type": "execute_result"
    }
   ],
   "source": [
    "pca.explained_variance_ratio_"
   ]
  },
  {
   "cell_type": "code",
   "execution_count": 277,
   "metadata": {},
   "outputs": [
    {
     "data": {
      "text/plain": [
       "([<matplotlib.axis.XTick at 0x1c4021d6748>,\n",
       "  <matplotlib.axis.XTick at 0x1c403142608>,\n",
       "  <matplotlib.axis.XTick at 0x1c402af38c8>,\n",
       "  <matplotlib.axis.XTick at 0x1c4030daf88>,\n",
       "  <matplotlib.axis.XTick at 0x1c403108d88>,\n",
       "  <matplotlib.axis.XTick at 0x1c4031080c8>,\n",
       "  <matplotlib.axis.XTick at 0x1c402e95308>,\n",
       "  <matplotlib.axis.XTick at 0x1c401e52988>,\n",
       "  <matplotlib.axis.XTick at 0x1c401885908>,\n",
       "  <matplotlib.axis.XTick at 0x1c401df4588>,\n",
       "  <matplotlib.axis.XTick at 0x1c401df4d08>,\n",
       "  <matplotlib.axis.XTick at 0x1c403200dc8>,\n",
       "  <matplotlib.axis.XTick at 0x1c402d83808>,\n",
       "  <matplotlib.axis.XTick at 0x1c402b2efc8>],\n",
       " <a list of 14 Text xticklabel objects>)"
      ]
     },
     "execution_count": 277,
     "metadata": {},
     "output_type": "execute_result"
    },
    {
     "data": {
      "image/png": "[encoded data removed]",
      "text/plain": [
       "<Figure size 504x360 with 1 Axes>"
      ]
     },
     "metadata": {
      "needs_background": "light"
     },
     "output_type": "display_data"
    }
   ],
   "source": [
    "plt.figure(figsize=(7,5))\n",
    "plt.plot([1,2,3,4,5,6,7,8,9,10,11,12,13,14], pca.explained_variance_ratio_, '-o')\n",
    "plt.ylabel('Proportion of Variance Explained')\n",
    "plt.xlabel('Principal Component')\n",
    "plt.xlim(0.75,4.25)\n",
    "plt.ylim(0,1.05)\n",
    "plt.xticks([1,2,3,4,5,6,7,8,9,10,11,12,13,14])\n",
    "# We can also use the function cumsum(), which computes the cumulative sum of the elements of a numeric\n",
    "# vector, to plot the cumulative PVE:"
   ]
  },
  {
   "cell_type": "code",
   "execution_count": 278,
   "metadata": {
    "scrolled": true
   },
   "outputs": [
    {
     "data": {
      "text/plain": [
       "([<matplotlib.axis.XTick at 0x1c40148cac8>,\n",
       "  <matplotlib.axis.XTick at 0x1c40148c348>,\n",
       "  <matplotlib.axis.XTick at 0x1c401e83dc8>,\n",
       "  <matplotlib.axis.XTick at 0x1c40380c9c8>,\n",
       "  <matplotlib.axis.XTick at 0x1c402d8c488>,\n",
       "  <matplotlib.axis.XTick at 0x1c4020b7708>,\n",
       "  <matplotlib.axis.XTick at 0x1c4020b7c88>,\n",
       "  <matplotlib.axis.XTick at 0x1c40334f208>,\n",
       "  <matplotlib.axis.XTick at 0x1c40380c288>,\n",
       "  <matplotlib.axis.XTick at 0x1c40334ff08>,\n",
       "  <matplotlib.axis.XTick at 0x1c401f0d408>,\n",
       "  <matplotlib.axis.XTick at 0x1c402289ac8>,\n",
       "  <matplotlib.axis.XTick at 0x1c402289248>,\n",
       "  <matplotlib.axis.XTick at 0x1c40207de08>],\n",
       " <a list of 14 Text xticklabel objects>)"
      ]
     },
     "execution_count": 278,
     "metadata": {},
     "output_type": "execute_result"
    },
    {
     "data": {
      "image/png": "[encoded data removed]",
      "text/plain": [
       "<Figure size 504x360 with 1 Axes>"
      ]
     },
     "metadata": {
      "needs_background": "light"
     },
     "output_type": "display_data"
    }
   ],
   "source": [
    "plt.figure(figsize=(7,5))\n",
    "plt.plot([1,2,3,4,5,6,7,8,9,10,11,12,13,14], np.cumsum(pca.explained_variance_ratio_), '-s')\n",
    "plt.ylabel('Proportion of Variance Explained')\n",
    "plt.xlabel('Principal Component')\n",
    "plt.xlim(0.75,4.25)\n",
    "plt.ylim(0,1.05)\n",
    "plt.xticks([1,2,3,4,5,6,7,8,9,10,11,12,13,14])"
   ]
  },
  {
   "cell_type": "code",
   "execution_count": 279,
   "metadata": {
    "scrolled": true
   },
   "outputs": [
    {
     "data": {
      "text/plain": [
       "<matplotlib.collections.PathCollection at 0x1c4022c1f08>"
      ]
     },
     "execution_count": 279,
     "metadata": {},
     "output_type": "execute_result"
    },
    {
     "data": {
      "image/png": "[encoded data removed]",
      "text/plain": [
       "<Figure size 432x288 with 1 Axes>"
      ]
     },
     "metadata": {
      "needs_background": "light"
     },
     "output_type": "display_data"
    }
   ],
   "source": [
    "PC1 = df_plot['PC1'].values\n",
    "PC2 = df_plot['PC2'].values\n",
    "plt.scatter(PC1,PC2, c = 'red', s=100)"
   ]
  },
  {
   "cell_type": "markdown",
   "metadata": {},
   "source": [
    "### Moving on to K-Means:"
   ]
  },
  {
   "cell_type": "code",
   "execution_count": 280,
   "metadata": {},
   "outputs": [
    {
     "data": {
      "image/png": "[encoded data removed]",
      "text/plain": [
       "<Figure size 432x288 with 1 Axes>"
      ]
     },
     "metadata": {
      "needs_background": "light"
     },
     "output_type": "display_data"
    }
   ],
   "source": [
    "plot_pca1 = sns.distplot(df_plot[\"PC1\"])"
   ]
  },
  {
   "cell_type": "code",
   "execution_count": 281,
   "metadata": {},
   "outputs": [
    {
     "data": {
      "image/png": "[encoded data removed]",
      "text/plain": [
       "<Figure size 432x288 with 1 Axes>"
      ]
     },
     "metadata": {
      "needs_background": "light"
     },
     "output_type": "display_data"
    }
   ],
   "source": [
    "plot_pca1 = sns.distplot(df_plot[\"PC1\"])\n",
    "plot_pca2 = sns.distplot(df_plot[\"PC2\"])"
   ]
  },
  {
   "cell_type": "code",
   "execution_count": 282,
   "metadata": {},
   "outputs": [
    {
     "data": {
      "image/png": "[encoded data removed]",
      "text/plain": [
       "<Figure size 432x288 with 1 Axes>"
      ]
     },
     "metadata": {
      "needs_background": "light"
     },
     "output_type": "display_data"
    }
   ],
   "source": [
    "plot_pca1 = sns.distplot(df_plot[\"PC1\"])\n",
    "plot_pca2 = sns.distplot(df_plot[\"PC2\"])\n",
    "plot_pca3 = sns.distplot(df_plot[\"PC3\"])"
   ]
  },
  {
   "cell_type": "code",
   "execution_count": 283,
   "metadata": {},
   "outputs": [
    {
     "data": {
      "image/png": "[encoded data removed]",
      "text/plain": [
       "<Figure size 432x288 with 1 Axes>"
      ]
     },
     "metadata": {
      "needs_background": "light"
     },
     "output_type": "display_data"
    }
   ],
   "source": [
    "plot_pca1 = sns.distplot(df_plot[\"PC1\"])\n",
    "plot_pca2 = sns.distplot(df_plot[\"PC2\"])\n",
    "plot_pca3 = sns.distplot(df_plot[\"PC3\"])\n",
    "plot_pca4 = sns.distplot(df_plot[\"PC4\"])"
   ]
  },
  {
   "cell_type": "code",
   "execution_count": 284,
   "metadata": {},
   "outputs": [
    {
     "data": {
      "image/png": "[encoded data removed]",
      "text/plain": [
       "<Figure size 432x288 with 1 Axes>"
      ]
     },
     "metadata": {
      "needs_background": "light"
     },
     "output_type": "display_data"
    }
   ],
   "source": [
    "plot_pca1 = sns.distplot(df_plot[\"PC1\"])\n",
    "plot_pca2 = sns.distplot(df_plot[\"PC2\"])\n",
    "plot_pca3 = sns.distplot(df_plot[\"PC3\"])\n",
    "plot_pca4 = sns.distplot(df_plot[\"PC4\"])\n",
    "plot_pca5 = sns.distplot(df_plot[\"PC5\"])"
   ]
  },
  {
   "cell_type": "code",
   "execution_count": 285,
   "metadata": {
    "scrolled": true
   },
   "outputs": [
    {
     "data": {
      "image/png": "[encoded data removed]",
      "text/plain": [
       "<Figure size 432x288 with 1 Axes>"
      ]
     },
     "metadata": {
      "needs_background": "light"
     },
     "output_type": "display_data"
    }
   ],
   "source": [
    "plot_pca1 = sns.distplot(df_plot[\"PC1\"])\n",
    "plot_pca2 = sns.distplot(df_plot[\"PC2\"])\n",
    "plot_pca3 = sns.distplot(df_plot[\"PC3\"])\n",
    "plot_pca4 = sns.distplot(df_plot[\"PC4\"])\n",
    "plot_pca5 = sns.distplot(df_plot[\"PC5\"])\n",
    "plot_pca6 = sns.distplot(df_plot[\"PC6\"])"
   ]
  },
  {
   "cell_type": "code",
   "execution_count": 286,
   "metadata": {
    "scrolled": true
   },
   "outputs": [
    {
     "data": {
      "text/html": [
       "<div>\n",
       "<style scoped>\n",
       "    .dataframe tbody tr th:only-of-type {\n",
       "        vertical-align: middle;\n",
       "    }\n",
       "\n",
       "    .dataframe tbody tr th {\n",
       "        vertical-align: top;\n",
       "    }\n",
       "\n",
       "    .dataframe thead th {\n",
       "        text-align: right;\n",
       "    }\n",
       "</style>\n",
       "<table border=\"1\" class=\"dataframe\">\n",
       "  <thead>\n",
       "    <tr style=\"text-align: right;\">\n",
       "      <th></th>\n",
       "      <th>PC1</th>\n",
       "      <th>PC2</th>\n",
       "      <th>PC3</th>\n",
       "      <th>PC4</th>\n",
       "      <th>PC5</th>\n",
       "      <th>PC6</th>\n",
       "      <th>PC7</th>\n",
       "      <th>PC8</th>\n",
       "      <th>PC9</th>\n",
       "      <th>PC10</th>\n",
       "      <th>PC11</th>\n",
       "      <th>PC12</th>\n",
       "      <th>PC13</th>\n",
       "      <th>PC14</th>\n",
       "    </tr>\n",
       "  </thead>\n",
       "  <tbody>\n",
       "    <tr>\n",
       "      <td>0</td>\n",
       "      <td>0.462956</td>\n",
       "      <td>-0.339835</td>\n",
       "      <td>0.077813</td>\n",
       "      <td>-0.679753</td>\n",
       "      <td>0.471427</td>\n",
       "      <td>0.156030</td>\n",
       "      <td>-0.297900</td>\n",
       "      <td>-1.923694</td>\n",
       "      <td>-0.753053</td>\n",
       "      <td>1.337059</td>\n",
       "      <td>0.097912</td>\n",
       "      <td>-1.459951</td>\n",
       "      <td>-1.504416</td>\n",
       "      <td>0.232419</td>\n",
       "    </tr>\n",
       "    <tr>\n",
       "      <td>1</td>\n",
       "      <td>0.565247</td>\n",
       "      <td>-0.736502</td>\n",
       "      <td>0.323068</td>\n",
       "      <td>-0.670153</td>\n",
       "      <td>0.424562</td>\n",
       "      <td>0.123653</td>\n",
       "      <td>-1.005439</td>\n",
       "      <td>0.300293</td>\n",
       "      <td>-0.045800</td>\n",
       "      <td>0.237645</td>\n",
       "      <td>1.262745</td>\n",
       "      <td>-0.131694</td>\n",
       "      <td>-0.092552</td>\n",
       "      <td>0.227132</td>\n",
       "    </tr>\n",
       "    <tr>\n",
       "      <td>2</td>\n",
       "      <td>-0.063610</td>\n",
       "      <td>-2.785778</td>\n",
       "      <td>0.316906</td>\n",
       "      <td>1.207720</td>\n",
       "      <td>0.472513</td>\n",
       "      <td>0.176105</td>\n",
       "      <td>-0.113421</td>\n",
       "      <td>-0.527691</td>\n",
       "      <td>1.866890</td>\n",
       "      <td>0.133657</td>\n",
       "      <td>-0.272449</td>\n",
       "      <td>-0.329151</td>\n",
       "      <td>-0.766067</td>\n",
       "      <td>-0.029340</td>\n",
       "    </tr>\n",
       "    <tr>\n",
       "      <td>3</td>\n",
       "      <td>-1.947225</td>\n",
       "      <td>1.136443</td>\n",
       "      <td>-1.264851</td>\n",
       "      <td>4.125724</td>\n",
       "      <td>-0.247434</td>\n",
       "      <td>0.526482</td>\n",
       "      <td>-1.078404</td>\n",
       "      <td>0.801313</td>\n",
       "      <td>-1.507991</td>\n",
       "      <td>-1.019436</td>\n",
       "      <td>0.529795</td>\n",
       "      <td>-0.331118</td>\n",
       "      <td>-0.711749</td>\n",
       "      <td>0.602179</td>\n",
       "    </tr>\n",
       "    <tr>\n",
       "      <td>4</td>\n",
       "      <td>-1.312459</td>\n",
       "      <td>2.190579</td>\n",
       "      <td>0.362760</td>\n",
       "      <td>-0.280111</td>\n",
       "      <td>0.860473</td>\n",
       "      <td>0.550972</td>\n",
       "      <td>-0.633968</td>\n",
       "      <td>0.797110</td>\n",
       "      <td>-0.368523</td>\n",
       "      <td>-0.208467</td>\n",
       "      <td>-0.232667</td>\n",
       "      <td>-0.294319</td>\n",
       "      <td>-0.822201</td>\n",
       "      <td>0.896415</td>\n",
       "    </tr>\n",
       "    <tr>\n",
       "      <td>...</td>\n",
       "      <td>...</td>\n",
       "      <td>...</td>\n",
       "      <td>...</td>\n",
       "      <td>...</td>\n",
       "      <td>...</td>\n",
       "      <td>...</td>\n",
       "      <td>...</td>\n",
       "      <td>...</td>\n",
       "      <td>...</td>\n",
       "      <td>...</td>\n",
       "      <td>...</td>\n",
       "      <td>...</td>\n",
       "      <td>...</td>\n",
       "      <td>...</td>\n",
       "    </tr>\n",
       "    <tr>\n",
       "      <td>32555</td>\n",
       "      <td>-1.623407</td>\n",
       "      <td>1.204123</td>\n",
       "      <td>-1.234905</td>\n",
       "      <td>-0.104398</td>\n",
       "      <td>1.480340</td>\n",
       "      <td>0.922646</td>\n",
       "      <td>0.183357</td>\n",
       "      <td>0.509974</td>\n",
       "      <td>0.009671</td>\n",
       "      <td>-1.456025</td>\n",
       "      <td>0.518314</td>\n",
       "      <td>-0.101822</td>\n",
       "      <td>-0.569992</td>\n",
       "      <td>0.619677</td>\n",
       "    </tr>\n",
       "    <tr>\n",
       "      <td>32556</td>\n",
       "      <td>1.501742</td>\n",
       "      <td>-0.390396</td>\n",
       "      <td>0.261677</td>\n",
       "      <td>-0.356967</td>\n",
       "      <td>0.024659</td>\n",
       "      <td>-0.188867</td>\n",
       "      <td>0.189864</td>\n",
       "      <td>-0.298795</td>\n",
       "      <td>-0.030828</td>\n",
       "      <td>-0.300455</td>\n",
       "      <td>-0.026956</td>\n",
       "      <td>-0.812252</td>\n",
       "      <td>1.207602</td>\n",
       "      <td>-0.441513</td>\n",
       "    </tr>\n",
       "    <tr>\n",
       "      <td>32557</td>\n",
       "      <td>-2.036807</td>\n",
       "      <td>0.677838</td>\n",
       "      <td>0.836284</td>\n",
       "      <td>-0.243847</td>\n",
       "      <td>0.498208</td>\n",
       "      <td>0.114641</td>\n",
       "      <td>0.385641</td>\n",
       "      <td>-0.064853</td>\n",
       "      <td>-0.349757</td>\n",
       "      <td>0.848114</td>\n",
       "      <td>-2.529436</td>\n",
       "      <td>0.888944</td>\n",
       "      <td>0.240170</td>\n",
       "      <td>0.589741</td>\n",
       "    </tr>\n",
       "    <tr>\n",
       "      <td>32558</td>\n",
       "      <td>-1.814360</td>\n",
       "      <td>-0.031788</td>\n",
       "      <td>0.169398</td>\n",
       "      <td>-1.014923</td>\n",
       "      <td>-0.661759</td>\n",
       "      <td>-0.748845</td>\n",
       "      <td>0.550092</td>\n",
       "      <td>-0.255220</td>\n",
       "      <td>-0.461419</td>\n",
       "      <td>1.009650</td>\n",
       "      <td>0.364968</td>\n",
       "      <td>-1.121754</td>\n",
       "      <td>0.266247</td>\n",
       "      <td>0.814218</td>\n",
       "    </tr>\n",
       "    <tr>\n",
       "      <td>32559</td>\n",
       "      <td>-0.117196</td>\n",
       "      <td>1.596024</td>\n",
       "      <td>0.893891</td>\n",
       "      <td>0.814259</td>\n",
       "      <td>2.703352</td>\n",
       "      <td>0.178646</td>\n",
       "      <td>0.914891</td>\n",
       "      <td>0.853360</td>\n",
       "      <td>-0.222851</td>\n",
       "      <td>0.703187</td>\n",
       "      <td>-0.648029</td>\n",
       "      <td>-0.429524</td>\n",
       "      <td>1.362349</td>\n",
       "      <td>0.551483</td>\n",
       "    </tr>\n",
       "  </tbody>\n",
       "</table>\n",
       "<p>32560 rows × 14 columns</p>\n",
       "</div>"
      ],
      "text/plain": [
       "            PC1       PC2       PC3       PC4       PC5       PC6       PC7  \\\n",
       "0      0.462956 -0.339835  0.077813 -0.679753  0.471427  0.156030 -0.297900   \n",
       "1      0.565247 -0.736502  0.323068 -0.670153  0.424562  0.123653 -1.005439   \n",
       "2     -0.063610 -2.785778  0.316906  1.207720  0.472513  0.176105 -0.113421   \n",
       "3     -1.947225  1.136443 -1.264851  4.125724 -0.247434  0.526482 -1.078404   \n",
       "4     -1.312459  2.190579  0.362760 -0.280111  0.860473  0.550972 -0.633968   \n",
       "...         ...       ...       ...       ...       ...       ...       ...   \n",
       "32555 -1.623407  1.204123 -1.234905 -0.104398  1.480340  0.922646  0.183357   \n",
       "32556  1.501742 -0.390396  0.261677 -0.356967  0.024659 -0.188867  0.189864   \n",
       "32557 -2.036807  0.677838  0.836284 -0.243847  0.498208  0.114641  0.385641   \n",
       "32558 -1.814360 -0.031788  0.169398 -1.014923 -0.661759 -0.748845  0.550092   \n",
       "32559 -0.117196  1.596024  0.893891  0.814259  2.703352  0.178646  0.914891   \n",
       "\n",
       "            PC8       PC9      PC10      PC11      PC12      PC13      PC14  \n",
       "0     -1.923694 -0.753053  1.337059  0.097912 -1.459951 -1.504416  0.232419  \n",
       "1      0.300293 -0.045800  0.237645  1.262745 -0.131694 -0.092552  0.227132  \n",
       "2     -0.527691  1.866890  0.133657 -0.272449 -0.329151 -0.766067 -0.029340  \n",
       "3      0.801313 -1.507991 -1.019436  0.529795 -0.331118 -0.711749  0.602179  \n",
       "4      0.797110 -0.368523 -0.208467 -0.232667 -0.294319 -0.822201  0.896415  \n",
       "...         ...       ...       ...       ...       ...       ...       ...  \n",
       "32555  0.509974  0.009671 -1.456025  0.518314 -0.101822 -0.569992  0.619677  \n",
       "32556 -0.298795 -0.030828 -0.300455 -0.026956 -0.812252  1.207602 -0.441513  \n",
       "32557 -0.064853 -0.349757  0.848114 -2.529436  0.888944  0.240170  0.589741  \n",
       "32558 -0.255220 -0.461419  1.009650  0.364968 -1.121754  0.266247  0.814218  \n",
       "32559  0.853360 -0.222851  0.703187 -0.648029 -0.429524  1.362349  0.551483  \n",
       "\n",
       "[32560 rows x 14 columns]"
      ]
     },
     "execution_count": 286,
     "metadata": {},
     "output_type": "execute_result"
    }
   ],
   "source": [
    "df_plot"
   ]
  },
  {
   "cell_type": "code",
   "execution_count": 287,
   "metadata": {},
   "outputs": [],
   "source": [
    "del df_plot['PC3'], df_plot['PC4'], df_plot['PC5'], df_plot['PC6'], df_plot['PC7'], df_plot['PC8'], df_plot['PC10'], df_plot['PC11'], df_plot['PC12'], df_plot['PC13'], df_plot['PC14'] \n",
    "k_data=df_plot.iloc[:,[0,1]].values"
   ]
  },
  {
   "cell_type": "code",
   "execution_count": 288,
   "metadata": {},
   "outputs": [
    {
     "data": {
      "text/plain": [
       "array([[ 0.46295591, -0.33983544],\n",
       "       [ 0.56524706, -0.73650153],\n",
       "       [-0.06360975, -2.78577814],\n",
       "       ...,\n",
       "       [-2.0368065 ,  0.67783756],\n",
       "       [-1.81436012, -0.03178835],\n",
       "       [-0.1171958 ,  1.5960242 ]])"
      ]
     },
     "execution_count": 288,
     "metadata": {},
     "output_type": "execute_result"
    }
   ],
   "source": [
    "k_data"
   ]
  },
  {
   "cell_type": "code",
   "execution_count": 289,
   "metadata": {
    "scrolled": true
   },
   "outputs": [
    {
     "data": {
      "image/png": "[encoded data removed]",
      "text/plain": [
       "<Figure size 432x288 with 1 Axes>"
      ]
     },
     "metadata": {
      "needs_background": "light"
     },
     "output_type": "display_data"
    }
   ],
   "source": [
    "#Using the elbow method to find the ideal number of clusters\n",
    "#https://scikit-learn.org/stable/modules/generated/sklearn.cluster.KMeans.html\n",
    "# inertia_ is nothing but Sum of squared distances of samples to their closest cluster center.\n",
    "\n",
    "# So as the clusters grow the points gets assigned to nearest cluster, so overal sum of square becomes less\n",
    "from sklearn.cluster import KMeans\n",
    "wcss = []\n",
    "for i in range(1,14):\n",
    "    km=KMeans(n_clusters=i,init='k-means++', max_iter=300, n_init=10, random_state=0)\n",
    "    km.fit(k_data)\n",
    "    wcss.append(km.inertia_)\n",
    "plt.plot(range(1,14),wcss)\n",
    "plt.title('Elbow Method')\n",
    "plt.xlabel('Number of clusters')\n",
    "plt.ylabel('wcss')\n",
    "plt.show()"
   ]
  },
  {
   "cell_type": "code",
   "execution_count": 290,
   "metadata": {
    "scrolled": true
   },
   "outputs": [
    {
     "name": "stdout",
     "output_type": "stream",
     "text": [
      "For n_clusters=2, The Silhouette Coefficient is 0.42330051043783395\n",
      "For n_clusters=3, The Silhouette Coefficient is 0.4753867510721339\n",
      "For n_clusters=4, The Silhouette Coefficient is 0.42841889785735293\n",
      "For n_clusters=5, The Silhouette Coefficient is 0.4435039368610043\n",
      "For n_clusters=6, The Silhouette Coefficient is 0.39624900373567445\n",
      "For n_clusters=7, The Silhouette Coefficient is 0.4030649801247899\n",
      "For n_clusters=8, The Silhouette Coefficient is 0.38805541881738415\n",
      "For n_clusters=9, The Silhouette Coefficient is 0.3707888943766242\n",
      "For n_clusters=10, The Silhouette Coefficient is 0.38470758461805193\n"
     ]
    }
   ],
   "source": [
    "#Calculating the #silhoutte  coefficient\n",
    "from sklearn.metrics import silhouette_score\n",
    "from sklearn.cluster import KMeans\n",
    "\n",
    "#silhoutte co-efficent range is from -1 to 1 with 1 being best. It will tell how well clusters are separated\n",
    "\n",
    "for n_cluster in range(2,11):\n",
    "    kmeans = KMeans(n_clusters=n_cluster).fit(k_data)\n",
    "    label = kmeans.labels_\n",
    "    sil_coeff = silhouette_score(k_data, label, metric='euclidean')\n",
    "    print(\"For n_clusters={}, The Silhouette Coefficient is {}\".format(n_cluster, sil_coeff))"
   ]
  },
  {
   "cell_type": "code",
   "execution_count": 291,
   "metadata": {},
   "outputs": [
    {
     "data": {
      "image/png": "[encoded data removed]",
      "text/plain": [
       "<Figure size 432x288 with 1 Axes>"
      ]
     },
     "metadata": {
      "needs_background": "light"
     },
     "output_type": "display_data"
    },
    {
     "name": "stdout",
     "output_type": "stream",
     "text": [
      "[-125051.00921580623, -69692.67006988847, -45383.73149704633, -32826.976081190835, -26570.141251291614, -21938.3323132218, -18787.491950108822, -16172.824904253084, -14608.74202863823, -13264.355771978408, -12130.243582820389, -11132.470315151537, -10233.980030578914, -9452.039492515607, -8851.042509531617, -8300.425150162293, -7815.491815514393, -7384.017551841813, -6953.11847917719]\n"
     ]
    }
   ],
   "source": [
    "import pylab as pl\n",
    "from sklearn.decomposition import PCA\n",
    "\n",
    "Nc = range(1, 20)\n",
    "kmeans = [KMeans(n_clusters=i) for i in Nc]\n",
    "kmeans\n",
    "score = [kmeans[i].fit(k_data).score(k_data) for i in range(len(kmeans))]\n",
    "score\n",
    "pl.plot(Nc,score)\n",
    "pl.xlabel('Number of Clusters')\n",
    "pl.ylabel('Score')\n",
    "pl.title('Elbow Curve')\n",
    "pl.show()\n",
    "\n",
    "print(score)"
   ]
  },
  {
   "cell_type": "code",
   "execution_count": 292,
   "metadata": {},
   "outputs": [
    {
     "name": "stdout",
     "output_type": "stream",
     "text": [
      "k: 1  cost: 125051.00921580623\n",
      "k: 2  cost: 69692.67519468792\n",
      "k: 3  cost: 45383.72169605585\n",
      "k: 4  cost: 32826.976081190835\n",
      "k: 5  cost: 26569.943897576875\n",
      "k: 6  cost: 21938.466181732503\n",
      "k: 7  cost: 18787.19938039019\n",
      "k: 8  cost: 16172.815343815384\n",
      "k: 9  cost: 14609.02652396706\n",
      "k: 10  cost: 13268.055825797615\n",
      "\n"
     ]
    }
   ],
   "source": [
    "for k in range (1, 11):\n",
    "    kmeans_model = KMeans(n_clusters=k, random_state=1).fit(k_data)\n",
    "    labels = kmeans_model.labels_\n",
    "    interia = kmeans_model.inertia_\n",
    "    print (\"k:\",k, \" cost:\", interia)\n",
    "print()"
   ]
  },
  {
   "cell_type": "code",
   "execution_count": 293,
   "metadata": {},
   "outputs": [],
   "source": [
    "##Fitting kmeans to the dataset\n",
    "km4=KMeans(n_clusters=4,init='k-means++', max_iter=300, n_init=10, random_state=0)\n",
    "y_means = km4.fit_predict(k_data)"
   ]
  },
  {
   "cell_type": "code",
   "execution_count": 295,
   "metadata": {},
   "outputs": [
    {
     "data": {
      "image/png": "[encoded data removed]",
      "text/plain": [
       "<Figure size 432x288 with 1 Axes>"
      ]
     },
     "metadata": {
      "needs_background": "light"
     },
     "output_type": "display_data"
    }
   ],
   "source": [
    "#Visualising the clusters for k=3\n",
    "plt.scatter(k_data[y_means==0,0],k_data[y_means==0,1],s=50, c='purple',label='Cluster1')\n",
    "plt.scatter(k_data[y_means==1,0],k_data[y_means==1,1],s=50, c='blue',label='Cluster2')\n",
    "plt.scatter(k_data[y_means==2,0],k_data[y_means==2,1],s=50, c='green',label='Cluster3')\n",
    "\n",
    "\n",
    "plt.scatter(km4.cluster_centers_[:,0], km4.cluster_centers_[:,1],s=200,marker='s', c='red', alpha=0.7, label='Centroids')\n",
    "plt.title('Principal Components of Adults')\n",
    "plt.xlabel('Principal Component 1')\n",
    "plt.ylabel('Principal Component 2')\n",
    "plt.legend()\n",
    "plt.show()"
   ]
  },
  {
   "cell_type": "markdown",
   "metadata": {},
   "source": [
    "Probably going to add more visualizations, comparison, and interpretations"
   ]
  },
  {
   "cell_type": "code",
   "execution_count": null,
   "metadata": {},
   "outputs": [],
   "source": []
  }
 ],
 "metadata": {
  "kernelspec": {
   "display_name": "Python 3",
   "language": "python",
   "name": "python3"
  },
  "language_info": {
   "codemirror_mode": {
    "name": "ipython",
    "version": 3
   },
   "file_extension": ".py",
   "mimetype": "text/x-python",
   "name": "python",
   "nbconvert_exporter": "python",
   "pygments_lexer": "ipython3",
   "version": "3.7.4"
  }
 },
 "nbformat": 4,
 "nbformat_minor": 4
}
